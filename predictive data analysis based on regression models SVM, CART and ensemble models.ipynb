{
 "cells": [
  {
   "cell_type": "markdown",
   "metadata": {},
   "source": [
    "# Яппаров Айнур и Матниязов Азизбек, 4232М\n",
    "# Вариант 7 - прочность бетона на сжатие\n",
    "# Метод преобразования - Стандартизация\n",
    "# Регрессионная модель - SVM\n",
    "# Ансамблевая модель - Градиентный бустинг"
   ]
  },
  {
   "cell_type": "markdown",
   "metadata": {},
   "source": [
    "Импорт необходимых библиотек"
   ]
  },
  {
   "cell_type": "code",
   "execution_count": 3,
   "metadata": {},
   "outputs": [],
   "source": [
    "import numpy as np\n",
    "from pandas import read_csv, DataFrame\n",
    "import matplotlib.pyplot as plt\n",
    "from sklearn.preprocessing import StandardScaler, PolynomialFeatures\n",
    "from sklearn.model_selection import train_test_split, GridSearchCV\n",
    "from sklearn.metrics import mean_squared_error, r2_score\n",
    "from sklearn.svm import SVR\n",
    "from sklearn.ensemble import GradientBoostingRegressor\n",
    "%matplotlib inline"
   ]
  },
  {
   "cell_type": "markdown",
   "metadata": {},
   "source": [
    "Загрузка датасета"
   ]
  },
  {
   "cell_type": "code",
   "execution_count": 4,
   "metadata": {},
   "outputs": [
    {
     "data": {
      "text/plain": "      cement  blast_furnace_slag  fly_ash  water  superplasticizer  \\\n0      540.0                 0.0      0.0  162.0               2.5   \n1      540.0                 0.0      0.0  162.0               2.5   \n2      332.5               142.5      NaN  228.0               0.0   \n3      332.5               142.5      NaN  228.0               0.0   \n4      198.6               132.4      0.0  192.0               0.0   \n...      ...                 ...      ...    ...               ...   \n1025   276.4               116.0      NaN  179.6               8.9   \n1026   322.2                 0.0      NaN  196.0              10.4   \n1027   148.5               139.4    108.6  192.7               6.1   \n1028   159.1               186.7      0.0  175.6              11.3   \n1029   260.9               100.5     78.3  200.6               8.6   \n\n      coarse_aggregate  fine_aggregate   age  concrete_compressive_strength  \n0               1040.0            676.0   28                          79.99  \n1               1055.0            676.0   28                          61.89  \n2                932.0            594.0  270                          40.27  \n3                932.0            594.0  365                          41.05  \n4                978.4            825.5  360                          44.30  \n...                ...              ...  ...                            ...  \n1025             870.1            768.3   28                          44.28  \n1026             817.9            813.4   28                          31.18  \n1027             892.4            780.0   28                          23.70  \n1028             989.6            788.9   28                          32.77  \n1029             864.5            761.5   28                          32.40  \n\n[1030 rows x 9 columns]",
      "text/html": "<div>\n<style scoped>\n    .dataframe tbody tr th:only-of-type {\n        vertical-align: middle;\n    }\n\n    .dataframe tbody tr th {\n        vertical-align: top;\n    }\n\n    .dataframe thead th {\n        text-align: right;\n    }\n</style>\n<table border=\"1\" class=\"dataframe\">\n  <thead>\n    <tr style=\"text-align: right;\">\n      <th></th>\n      <th>cement</th>\n      <th>blast_furnace_slag</th>\n      <th>fly_ash</th>\n      <th>water</th>\n      <th>superplasticizer</th>\n      <th>coarse_aggregate</th>\n      <th>fine_aggregate</th>\n      <th>age</th>\n      <th>concrete_compressive_strength</th>\n    </tr>\n  </thead>\n  <tbody>\n    <tr>\n      <th>0</th>\n      <td>540.0</td>\n      <td>0.0</td>\n      <td>0.0</td>\n      <td>162.0</td>\n      <td>2.5</td>\n      <td>1040.0</td>\n      <td>676.0</td>\n      <td>28</td>\n      <td>79.99</td>\n    </tr>\n    <tr>\n      <th>1</th>\n      <td>540.0</td>\n      <td>0.0</td>\n      <td>0.0</td>\n      <td>162.0</td>\n      <td>2.5</td>\n      <td>1055.0</td>\n      <td>676.0</td>\n      <td>28</td>\n      <td>61.89</td>\n    </tr>\n    <tr>\n      <th>2</th>\n      <td>332.5</td>\n      <td>142.5</td>\n      <td>NaN</td>\n      <td>228.0</td>\n      <td>0.0</td>\n      <td>932.0</td>\n      <td>594.0</td>\n      <td>270</td>\n      <td>40.27</td>\n    </tr>\n    <tr>\n      <th>3</th>\n      <td>332.5</td>\n      <td>142.5</td>\n      <td>NaN</td>\n      <td>228.0</td>\n      <td>0.0</td>\n      <td>932.0</td>\n      <td>594.0</td>\n      <td>365</td>\n      <td>41.05</td>\n    </tr>\n    <tr>\n      <th>4</th>\n      <td>198.6</td>\n      <td>132.4</td>\n      <td>0.0</td>\n      <td>192.0</td>\n      <td>0.0</td>\n      <td>978.4</td>\n      <td>825.5</td>\n      <td>360</td>\n      <td>44.30</td>\n    </tr>\n    <tr>\n      <th>...</th>\n      <td>...</td>\n      <td>...</td>\n      <td>...</td>\n      <td>...</td>\n      <td>...</td>\n      <td>...</td>\n      <td>...</td>\n      <td>...</td>\n      <td>...</td>\n    </tr>\n    <tr>\n      <th>1025</th>\n      <td>276.4</td>\n      <td>116.0</td>\n      <td>NaN</td>\n      <td>179.6</td>\n      <td>8.9</td>\n      <td>870.1</td>\n      <td>768.3</td>\n      <td>28</td>\n      <td>44.28</td>\n    </tr>\n    <tr>\n      <th>1026</th>\n      <td>322.2</td>\n      <td>0.0</td>\n      <td>NaN</td>\n      <td>196.0</td>\n      <td>10.4</td>\n      <td>817.9</td>\n      <td>813.4</td>\n      <td>28</td>\n      <td>31.18</td>\n    </tr>\n    <tr>\n      <th>1027</th>\n      <td>148.5</td>\n      <td>139.4</td>\n      <td>108.6</td>\n      <td>192.7</td>\n      <td>6.1</td>\n      <td>892.4</td>\n      <td>780.0</td>\n      <td>28</td>\n      <td>23.70</td>\n    </tr>\n    <tr>\n      <th>1028</th>\n      <td>159.1</td>\n      <td>186.7</td>\n      <td>0.0</td>\n      <td>175.6</td>\n      <td>11.3</td>\n      <td>989.6</td>\n      <td>788.9</td>\n      <td>28</td>\n      <td>32.77</td>\n    </tr>\n    <tr>\n      <th>1029</th>\n      <td>260.9</td>\n      <td>100.5</td>\n      <td>78.3</td>\n      <td>200.6</td>\n      <td>8.6</td>\n      <td>864.5</td>\n      <td>761.5</td>\n      <td>28</td>\n      <td>32.40</td>\n    </tr>\n  </tbody>\n</table>\n<p>1030 rows × 9 columns</p>\n</div>"
     },
     "execution_count": 4,
     "metadata": {},
     "output_type": "execute_result"
    }
   ],
   "source": [
    "df = read_csv(r'dataset_for_lab1_V7.csv', delimiter=(','), index_col=0)\n",
    "df"
   ]
  },
  {
   "cell_type": "markdown",
   "metadata": {},
   "source": [
    "# Формируем 4 набора данных "
   ]
  },
  {
   "cell_type": "markdown",
   "metadata": {},
   "source": [
    "### Исходный набор"
   ]
  },
  {
   "cell_type": "code",
   "execution_count": 5,
   "metadata": {},
   "outputs": [
    {
     "data": {
      "text/plain": "      cement  blast_furnace_slag     fly_ash  water  superplasticizer  \\\n0      540.0                 0.0    0.000000  162.0               2.5   \n1      540.0                 0.0    0.000000  162.0               2.5   \n2      332.5               142.5   52.169556  228.0               0.0   \n3      332.5               142.5   52.169556  228.0               0.0   \n4      198.6               132.4    0.000000  192.0               0.0   \n...      ...                 ...         ...    ...               ...   \n1025   276.4               116.0   52.169556  179.6               8.9   \n1026   322.2                 0.0   52.169556  196.0              10.4   \n1027   148.5               139.4  108.600000  192.7               6.1   \n1028   159.1               186.7    0.000000  175.6              11.3   \n1029   260.9               100.5   78.300000  200.6               8.6   \n\n      coarse_aggregate  fine_aggregate   age  concrete_compressive_strength  \n0               1040.0            676.0   28                          79.99  \n1               1055.0            676.0   28                          61.89  \n2                932.0            594.0  270                          40.27  \n3                932.0            594.0  365                          41.05  \n4                978.4            825.5  360                          44.30  \n...                ...              ...  ...                            ...  \n1025             870.1            768.3   28                          44.28  \n1026             817.9            813.4   28                          31.18  \n1027             892.4            780.0   28                          23.70  \n1028             989.6            788.9   28                          32.77  \n1029             864.5            761.5   28                          32.40  \n\n[1030 rows x 9 columns]",
      "text/html": "<div>\n<style scoped>\n    .dataframe tbody tr th:only-of-type {\n        vertical-align: middle;\n    }\n\n    .dataframe tbody tr th {\n        vertical-align: top;\n    }\n\n    .dataframe thead th {\n        text-align: right;\n    }\n</style>\n<table border=\"1\" class=\"dataframe\">\n  <thead>\n    <tr style=\"text-align: right;\">\n      <th></th>\n      <th>cement</th>\n      <th>blast_furnace_slag</th>\n      <th>fly_ash</th>\n      <th>water</th>\n      <th>superplasticizer</th>\n      <th>coarse_aggregate</th>\n      <th>fine_aggregate</th>\n      <th>age</th>\n      <th>concrete_compressive_strength</th>\n    </tr>\n  </thead>\n  <tbody>\n    <tr>\n      <th>0</th>\n      <td>540.0</td>\n      <td>0.0</td>\n      <td>0.000000</td>\n      <td>162.0</td>\n      <td>2.5</td>\n      <td>1040.0</td>\n      <td>676.0</td>\n      <td>28</td>\n      <td>79.99</td>\n    </tr>\n    <tr>\n      <th>1</th>\n      <td>540.0</td>\n      <td>0.0</td>\n      <td>0.000000</td>\n      <td>162.0</td>\n      <td>2.5</td>\n      <td>1055.0</td>\n      <td>676.0</td>\n      <td>28</td>\n      <td>61.89</td>\n    </tr>\n    <tr>\n      <th>2</th>\n      <td>332.5</td>\n      <td>142.5</td>\n      <td>52.169556</td>\n      <td>228.0</td>\n      <td>0.0</td>\n      <td>932.0</td>\n      <td>594.0</td>\n      <td>270</td>\n      <td>40.27</td>\n    </tr>\n    <tr>\n      <th>3</th>\n      <td>332.5</td>\n      <td>142.5</td>\n      <td>52.169556</td>\n      <td>228.0</td>\n      <td>0.0</td>\n      <td>932.0</td>\n      <td>594.0</td>\n      <td>365</td>\n      <td>41.05</td>\n    </tr>\n    <tr>\n      <th>4</th>\n      <td>198.6</td>\n      <td>132.4</td>\n      <td>0.000000</td>\n      <td>192.0</td>\n      <td>0.0</td>\n      <td>978.4</td>\n      <td>825.5</td>\n      <td>360</td>\n      <td>44.30</td>\n    </tr>\n    <tr>\n      <th>...</th>\n      <td>...</td>\n      <td>...</td>\n      <td>...</td>\n      <td>...</td>\n      <td>...</td>\n      <td>...</td>\n      <td>...</td>\n      <td>...</td>\n      <td>...</td>\n    </tr>\n    <tr>\n      <th>1025</th>\n      <td>276.4</td>\n      <td>116.0</td>\n      <td>52.169556</td>\n      <td>179.6</td>\n      <td>8.9</td>\n      <td>870.1</td>\n      <td>768.3</td>\n      <td>28</td>\n      <td>44.28</td>\n    </tr>\n    <tr>\n      <th>1026</th>\n      <td>322.2</td>\n      <td>0.0</td>\n      <td>52.169556</td>\n      <td>196.0</td>\n      <td>10.4</td>\n      <td>817.9</td>\n      <td>813.4</td>\n      <td>28</td>\n      <td>31.18</td>\n    </tr>\n    <tr>\n      <th>1027</th>\n      <td>148.5</td>\n      <td>139.4</td>\n      <td>108.600000</td>\n      <td>192.7</td>\n      <td>6.1</td>\n      <td>892.4</td>\n      <td>780.0</td>\n      <td>28</td>\n      <td>23.70</td>\n    </tr>\n    <tr>\n      <th>1028</th>\n      <td>159.1</td>\n      <td>186.7</td>\n      <td>0.000000</td>\n      <td>175.6</td>\n      <td>11.3</td>\n      <td>989.6</td>\n      <td>788.9</td>\n      <td>28</td>\n      <td>32.77</td>\n    </tr>\n    <tr>\n      <th>1029</th>\n      <td>260.9</td>\n      <td>100.5</td>\n      <td>78.300000</td>\n      <td>200.6</td>\n      <td>8.6</td>\n      <td>864.5</td>\n      <td>761.5</td>\n      <td>28</td>\n      <td>32.40</td>\n    </tr>\n  </tbody>\n</table>\n<p>1030 rows × 9 columns</p>\n</div>"
     },
     "execution_count": 5,
     "metadata": {},
     "output_type": "execute_result"
    }
   ],
   "source": [
    "original_data = df.copy()\n",
    "mean = original_data['fly_ash'].mean()\n",
    "original_data['fly_ash'].fillna(mean, inplace=True)\n",
    "original_data"
   ]
  },
  {
   "cell_type": "markdown",
   "metadata": {},
   "source": [
    "### Преобразованный данные исходного набора"
   ]
  },
  {
   "cell_type": "code",
   "execution_count": 6,
   "metadata": {},
   "outputs": [
    {
     "data": {
      "text/plain": "             0         1         2         3         4         5         6  \\\n0     2.477915 -0.856888 -1.197426 -0.916764 -0.620448  0.863154 -1.217670   \n1     2.477915 -0.856888 -1.197426 -0.916764 -0.620448  1.056164 -1.217670   \n2     0.491425  0.795526  0.000000  2.175461 -1.039143 -0.526517 -2.240917   \n3     0.491425  0.795526  0.000000  2.175461 -1.039143 -0.526517 -2.240917   \n4    -0.790459  0.678408 -1.197426  0.488793 -1.039143  0.070527  0.647884   \n...        ...       ...       ...       ...       ...       ...       ...   \n1025 -0.045645  0.488235  0.000000 -0.092171  0.451410 -1.323005 -0.065893   \n1026  0.392819 -0.856888  0.000000  0.676200  0.702626 -1.994680  0.496893   \n1027 -1.270088  0.759579  1.295224  0.521589 -0.017528 -1.036064  0.080107   \n1028 -1.168610  1.308065 -1.197426 -0.279579  0.853356  0.214641  0.191166   \n1029 -0.194033  0.308499  0.599761  0.891719  0.401166 -1.395062 -0.150748   \n\n             7         8  \n0    -0.279733  2.645408  \n1    -0.279733  1.561421  \n2     3.553066  0.266627  \n3     5.057677  0.313340  \n4     4.978487  0.507979  \n...        ...       ...  \n1025 -0.279733  0.506781  \n1026 -0.279733 -0.277762  \n1027 -0.279733 -0.725729  \n1028 -0.279733 -0.182539  \n1029 -0.279733 -0.204697  \n\n[1030 rows x 9 columns]",
      "text/html": "<div>\n<style scoped>\n    .dataframe tbody tr th:only-of-type {\n        vertical-align: middle;\n    }\n\n    .dataframe tbody tr th {\n        vertical-align: top;\n    }\n\n    .dataframe thead th {\n        text-align: right;\n    }\n</style>\n<table border=\"1\" class=\"dataframe\">\n  <thead>\n    <tr style=\"text-align: right;\">\n      <th></th>\n      <th>0</th>\n      <th>1</th>\n      <th>2</th>\n      <th>3</th>\n      <th>4</th>\n      <th>5</th>\n      <th>6</th>\n      <th>7</th>\n      <th>8</th>\n    </tr>\n  </thead>\n  <tbody>\n    <tr>\n      <th>0</th>\n      <td>2.477915</td>\n      <td>-0.856888</td>\n      <td>-1.197426</td>\n      <td>-0.916764</td>\n      <td>-0.620448</td>\n      <td>0.863154</td>\n      <td>-1.217670</td>\n      <td>-0.279733</td>\n      <td>2.645408</td>\n    </tr>\n    <tr>\n      <th>1</th>\n      <td>2.477915</td>\n      <td>-0.856888</td>\n      <td>-1.197426</td>\n      <td>-0.916764</td>\n      <td>-0.620448</td>\n      <td>1.056164</td>\n      <td>-1.217670</td>\n      <td>-0.279733</td>\n      <td>1.561421</td>\n    </tr>\n    <tr>\n      <th>2</th>\n      <td>0.491425</td>\n      <td>0.795526</td>\n      <td>0.000000</td>\n      <td>2.175461</td>\n      <td>-1.039143</td>\n      <td>-0.526517</td>\n      <td>-2.240917</td>\n      <td>3.553066</td>\n      <td>0.266627</td>\n    </tr>\n    <tr>\n      <th>3</th>\n      <td>0.491425</td>\n      <td>0.795526</td>\n      <td>0.000000</td>\n      <td>2.175461</td>\n      <td>-1.039143</td>\n      <td>-0.526517</td>\n      <td>-2.240917</td>\n      <td>5.057677</td>\n      <td>0.313340</td>\n    </tr>\n    <tr>\n      <th>4</th>\n      <td>-0.790459</td>\n      <td>0.678408</td>\n      <td>-1.197426</td>\n      <td>0.488793</td>\n      <td>-1.039143</td>\n      <td>0.070527</td>\n      <td>0.647884</td>\n      <td>4.978487</td>\n      <td>0.507979</td>\n    </tr>\n    <tr>\n      <th>...</th>\n      <td>...</td>\n      <td>...</td>\n      <td>...</td>\n      <td>...</td>\n      <td>...</td>\n      <td>...</td>\n      <td>...</td>\n      <td>...</td>\n      <td>...</td>\n    </tr>\n    <tr>\n      <th>1025</th>\n      <td>-0.045645</td>\n      <td>0.488235</td>\n      <td>0.000000</td>\n      <td>-0.092171</td>\n      <td>0.451410</td>\n      <td>-1.323005</td>\n      <td>-0.065893</td>\n      <td>-0.279733</td>\n      <td>0.506781</td>\n    </tr>\n    <tr>\n      <th>1026</th>\n      <td>0.392819</td>\n      <td>-0.856888</td>\n      <td>0.000000</td>\n      <td>0.676200</td>\n      <td>0.702626</td>\n      <td>-1.994680</td>\n      <td>0.496893</td>\n      <td>-0.279733</td>\n      <td>-0.277762</td>\n    </tr>\n    <tr>\n      <th>1027</th>\n      <td>-1.270088</td>\n      <td>0.759579</td>\n      <td>1.295224</td>\n      <td>0.521589</td>\n      <td>-0.017528</td>\n      <td>-1.036064</td>\n      <td>0.080107</td>\n      <td>-0.279733</td>\n      <td>-0.725729</td>\n    </tr>\n    <tr>\n      <th>1028</th>\n      <td>-1.168610</td>\n      <td>1.308065</td>\n      <td>-1.197426</td>\n      <td>-0.279579</td>\n      <td>0.853356</td>\n      <td>0.214641</td>\n      <td>0.191166</td>\n      <td>-0.279733</td>\n      <td>-0.182539</td>\n    </tr>\n    <tr>\n      <th>1029</th>\n      <td>-0.194033</td>\n      <td>0.308499</td>\n      <td>0.599761</td>\n      <td>0.891719</td>\n      <td>0.401166</td>\n      <td>-1.395062</td>\n      <td>-0.150748</td>\n      <td>-0.279733</td>\n      <td>-0.204697</td>\n    </tr>\n  </tbody>\n</table>\n<p>1030 rows × 9 columns</p>\n</div>"
     },
     "execution_count": 6,
     "metadata": {},
     "output_type": "execute_result"
    }
   ],
   "source": [
    "rescaled_data = original_data.copy()\n",
    "scaler = StandardScaler().fit(rescaled_data)\n",
    "rescaled_data = DataFrame(scaler.fit_transform(rescaled_data))\n",
    "rescaled_data"
   ]
  },
  {
   "cell_type": "markdown",
   "metadata": {},
   "source": [
    "### Формируем набор данных существенных признаков"
   ]
  },
  {
   "cell_type": "code",
   "execution_count": 7,
   "metadata": {},
   "outputs": [
    {
     "data": {
      "text/plain": "      cement  blast_furnace_slag  fly_ash  water  superplasticizer  \\\n0      540.0                 0.0      0.0  162.0               2.5   \n1      540.0                 0.0      0.0  162.0               2.5   \n2      332.5               142.5      NaN  228.0               0.0   \n3      332.5               142.5      NaN  228.0               0.0   \n4      198.6               132.4      0.0  192.0               0.0   \n...      ...                 ...      ...    ...               ...   \n1025   276.4               116.0      NaN  179.6               8.9   \n1026   322.2                 0.0      NaN  196.0              10.4   \n1027   148.5               139.4    108.6  192.7               6.1   \n1028   159.1               186.7      0.0  175.6              11.3   \n1029   260.9               100.5     78.3  200.6               8.6   \n\n      coarse_aggregate  fine_aggregate   age  water_cement_ratio  \\\n0               1040.0            676.0   28            0.300000   \n1               1055.0            676.0   28            0.300000   \n2                932.0            594.0  270            0.685714   \n3                932.0            594.0  365            0.685714   \n4                978.4            825.5  360            0.966767   \n...                ...              ...  ...                 ...   \n1025             870.1            768.3   28            0.649783   \n1026             817.9            813.4   28            0.608318   \n1027             892.4            780.0   28            1.297643   \n1028             989.6            788.9   28            1.103708   \n1029             864.5            761.5   28            0.768877   \n\n      superplasticizer_per_water  slag_per_coarse_aggregate  \\\n0                       0.015432                   0.000000   \n1                       0.015432                   0.000000   \n2                       0.000000                   0.152897   \n3                       0.000000                   0.152897   \n4                       0.000000                   0.135323   \n...                          ...                        ...   \n1025                    0.049555                   0.133318   \n1026                    0.053061                   0.000000   \n1027                    0.031655                   0.156208   \n1028                    0.064351                   0.188662   \n1029                    0.042871                   0.116252   \n\n      concrete_compressive_strength  \n0                             79.99  \n1                             61.89  \n2                             40.27  \n3                             41.05  \n4                             44.30  \n...                             ...  \n1025                          44.28  \n1026                          31.18  \n1027                          23.70  \n1028                          32.77  \n1029                          32.40  \n\n[1030 rows x 12 columns]",
      "text/html": "<div>\n<style scoped>\n    .dataframe tbody tr th:only-of-type {\n        vertical-align: middle;\n    }\n\n    .dataframe tbody tr th {\n        vertical-align: top;\n    }\n\n    .dataframe thead th {\n        text-align: right;\n    }\n</style>\n<table border=\"1\" class=\"dataframe\">\n  <thead>\n    <tr style=\"text-align: right;\">\n      <th></th>\n      <th>cement</th>\n      <th>blast_furnace_slag</th>\n      <th>fly_ash</th>\n      <th>water</th>\n      <th>superplasticizer</th>\n      <th>coarse_aggregate</th>\n      <th>fine_aggregate</th>\n      <th>age</th>\n      <th>water_cement_ratio</th>\n      <th>superplasticizer_per_water</th>\n      <th>slag_per_coarse_aggregate</th>\n      <th>concrete_compressive_strength</th>\n    </tr>\n  </thead>\n  <tbody>\n    <tr>\n      <th>0</th>\n      <td>540.0</td>\n      <td>0.0</td>\n      <td>0.0</td>\n      <td>162.0</td>\n      <td>2.5</td>\n      <td>1040.0</td>\n      <td>676.0</td>\n      <td>28</td>\n      <td>0.300000</td>\n      <td>0.015432</td>\n      <td>0.000000</td>\n      <td>79.99</td>\n    </tr>\n    <tr>\n      <th>1</th>\n      <td>540.0</td>\n      <td>0.0</td>\n      <td>0.0</td>\n      <td>162.0</td>\n      <td>2.5</td>\n      <td>1055.0</td>\n      <td>676.0</td>\n      <td>28</td>\n      <td>0.300000</td>\n      <td>0.015432</td>\n      <td>0.000000</td>\n      <td>61.89</td>\n    </tr>\n    <tr>\n      <th>2</th>\n      <td>332.5</td>\n      <td>142.5</td>\n      <td>NaN</td>\n      <td>228.0</td>\n      <td>0.0</td>\n      <td>932.0</td>\n      <td>594.0</td>\n      <td>270</td>\n      <td>0.685714</td>\n      <td>0.000000</td>\n      <td>0.152897</td>\n      <td>40.27</td>\n    </tr>\n    <tr>\n      <th>3</th>\n      <td>332.5</td>\n      <td>142.5</td>\n      <td>NaN</td>\n      <td>228.0</td>\n      <td>0.0</td>\n      <td>932.0</td>\n      <td>594.0</td>\n      <td>365</td>\n      <td>0.685714</td>\n      <td>0.000000</td>\n      <td>0.152897</td>\n      <td>41.05</td>\n    </tr>\n    <tr>\n      <th>4</th>\n      <td>198.6</td>\n      <td>132.4</td>\n      <td>0.0</td>\n      <td>192.0</td>\n      <td>0.0</td>\n      <td>978.4</td>\n      <td>825.5</td>\n      <td>360</td>\n      <td>0.966767</td>\n      <td>0.000000</td>\n      <td>0.135323</td>\n      <td>44.30</td>\n    </tr>\n    <tr>\n      <th>...</th>\n      <td>...</td>\n      <td>...</td>\n      <td>...</td>\n      <td>...</td>\n      <td>...</td>\n      <td>...</td>\n      <td>...</td>\n      <td>...</td>\n      <td>...</td>\n      <td>...</td>\n      <td>...</td>\n      <td>...</td>\n    </tr>\n    <tr>\n      <th>1025</th>\n      <td>276.4</td>\n      <td>116.0</td>\n      <td>NaN</td>\n      <td>179.6</td>\n      <td>8.9</td>\n      <td>870.1</td>\n      <td>768.3</td>\n      <td>28</td>\n      <td>0.649783</td>\n      <td>0.049555</td>\n      <td>0.133318</td>\n      <td>44.28</td>\n    </tr>\n    <tr>\n      <th>1026</th>\n      <td>322.2</td>\n      <td>0.0</td>\n      <td>NaN</td>\n      <td>196.0</td>\n      <td>10.4</td>\n      <td>817.9</td>\n      <td>813.4</td>\n      <td>28</td>\n      <td>0.608318</td>\n      <td>0.053061</td>\n      <td>0.000000</td>\n      <td>31.18</td>\n    </tr>\n    <tr>\n      <th>1027</th>\n      <td>148.5</td>\n      <td>139.4</td>\n      <td>108.6</td>\n      <td>192.7</td>\n      <td>6.1</td>\n      <td>892.4</td>\n      <td>780.0</td>\n      <td>28</td>\n      <td>1.297643</td>\n      <td>0.031655</td>\n      <td>0.156208</td>\n      <td>23.70</td>\n    </tr>\n    <tr>\n      <th>1028</th>\n      <td>159.1</td>\n      <td>186.7</td>\n      <td>0.0</td>\n      <td>175.6</td>\n      <td>11.3</td>\n      <td>989.6</td>\n      <td>788.9</td>\n      <td>28</td>\n      <td>1.103708</td>\n      <td>0.064351</td>\n      <td>0.188662</td>\n      <td>32.77</td>\n    </tr>\n    <tr>\n      <th>1029</th>\n      <td>260.9</td>\n      <td>100.5</td>\n      <td>78.3</td>\n      <td>200.6</td>\n      <td>8.6</td>\n      <td>864.5</td>\n      <td>761.5</td>\n      <td>28</td>\n      <td>0.768877</td>\n      <td>0.042871</td>\n      <td>0.116252</td>\n      <td>32.40</td>\n    </tr>\n  </tbody>\n</table>\n<p>1030 rows × 12 columns</p>\n</div>"
     },
     "execution_count": 7,
     "metadata": {},
     "output_type": "execute_result"
    }
   ],
   "source": [
    "original_inform = df.copy()\n",
    "original_inform['water_cement_ratio'] = original_inform['water'] / original_inform['cement']\n",
    "original_inform['superplasticizer_per_water'] = original_inform['superplasticizer'] / original_inform['water']\n",
    "original_inform['slag_per_coarse_aggregate'] = original_inform['blast_furnace_slag'] / original_inform['coarse_aggregate']\n",
    "col = original_inform.pop('concrete_compressive_strength')\n",
    "original_inform.insert(len(original_inform.columns), col.name, col)\n",
    "original_inform"
   ]
  },
  {
   "cell_type": "code",
   "execution_count": 8,
   "metadata": {},
   "outputs": [
    {
     "data": {
      "text/plain": "      cement  blast_furnace_slag  water  superplasticizer  coarse_aggregate  \\\n0      540.0                 0.0  162.0               2.5            1040.0   \n1      540.0                 0.0  162.0               2.5            1055.0   \n2      332.5               142.5  228.0               0.0             932.0   \n3      332.5               142.5  228.0               0.0             932.0   \n4      198.6               132.4  192.0               0.0             978.4   \n...      ...                 ...    ...               ...               ...   \n1025   276.4               116.0  179.6               8.9             870.1   \n1026   322.2                 0.0  196.0              10.4             817.9   \n1027   148.5               139.4  192.7               6.1             892.4   \n1028   159.1               186.7  175.6              11.3             989.6   \n1029   260.9               100.5  200.6               8.6             864.5   \n\n      fine_aggregate   water_cement_ratio  superplasticizer_per_water  \\\n0               676.0            0.300000                    0.015432   \n1               676.0            0.300000                    0.015432   \n2               594.0            0.685714                    0.000000   \n3               594.0            0.685714                    0.000000   \n4               825.5            0.966767                    0.000000   \n...               ...                 ...                         ...   \n1025            768.3            0.649783                    0.049555   \n1026            813.4            0.608318                    0.053061   \n1027            780.0            1.297643                    0.031655   \n1028            788.9            1.103708                    0.064351   \n1029            761.5            0.768877                    0.042871   \n\n      slag_per_coarse_aggregate  concrete_compressive_strength  \n0                      0.000000                          79.99  \n1                      0.000000                          61.89  \n2                      0.152897                          40.27  \n3                      0.152897                          41.05  \n4                      0.135323                          44.30  \n...                         ...                            ...  \n1025                   0.133318                          44.28  \n1026                   0.000000                          31.18  \n1027                   0.156208                          23.70  \n1028                   0.188662                          32.77  \n1029                   0.116252                          32.40  \n\n[1030 rows x 10 columns]",
      "text/html": "<div>\n<style scoped>\n    .dataframe tbody tr th:only-of-type {\n        vertical-align: middle;\n    }\n\n    .dataframe tbody tr th {\n        vertical-align: top;\n    }\n\n    .dataframe thead th {\n        text-align: right;\n    }\n</style>\n<table border=\"1\" class=\"dataframe\">\n  <thead>\n    <tr style=\"text-align: right;\">\n      <th></th>\n      <th>cement</th>\n      <th>blast_furnace_slag</th>\n      <th>water</th>\n      <th>superplasticizer</th>\n      <th>coarse_aggregate</th>\n      <th>fine_aggregate</th>\n      <th>water_cement_ratio</th>\n      <th>superplasticizer_per_water</th>\n      <th>slag_per_coarse_aggregate</th>\n      <th>concrete_compressive_strength</th>\n    </tr>\n  </thead>\n  <tbody>\n    <tr>\n      <th>0</th>\n      <td>540.0</td>\n      <td>0.0</td>\n      <td>162.0</td>\n      <td>2.5</td>\n      <td>1040.0</td>\n      <td>676.0</td>\n      <td>0.300000</td>\n      <td>0.015432</td>\n      <td>0.000000</td>\n      <td>79.99</td>\n    </tr>\n    <tr>\n      <th>1</th>\n      <td>540.0</td>\n      <td>0.0</td>\n      <td>162.0</td>\n      <td>2.5</td>\n      <td>1055.0</td>\n      <td>676.0</td>\n      <td>0.300000</td>\n      <td>0.015432</td>\n      <td>0.000000</td>\n      <td>61.89</td>\n    </tr>\n    <tr>\n      <th>2</th>\n      <td>332.5</td>\n      <td>142.5</td>\n      <td>228.0</td>\n      <td>0.0</td>\n      <td>932.0</td>\n      <td>594.0</td>\n      <td>0.685714</td>\n      <td>0.000000</td>\n      <td>0.152897</td>\n      <td>40.27</td>\n    </tr>\n    <tr>\n      <th>3</th>\n      <td>332.5</td>\n      <td>142.5</td>\n      <td>228.0</td>\n      <td>0.0</td>\n      <td>932.0</td>\n      <td>594.0</td>\n      <td>0.685714</td>\n      <td>0.000000</td>\n      <td>0.152897</td>\n      <td>41.05</td>\n    </tr>\n    <tr>\n      <th>4</th>\n      <td>198.6</td>\n      <td>132.4</td>\n      <td>192.0</td>\n      <td>0.0</td>\n      <td>978.4</td>\n      <td>825.5</td>\n      <td>0.966767</td>\n      <td>0.000000</td>\n      <td>0.135323</td>\n      <td>44.30</td>\n    </tr>\n    <tr>\n      <th>...</th>\n      <td>...</td>\n      <td>...</td>\n      <td>...</td>\n      <td>...</td>\n      <td>...</td>\n      <td>...</td>\n      <td>...</td>\n      <td>...</td>\n      <td>...</td>\n      <td>...</td>\n    </tr>\n    <tr>\n      <th>1025</th>\n      <td>276.4</td>\n      <td>116.0</td>\n      <td>179.6</td>\n      <td>8.9</td>\n      <td>870.1</td>\n      <td>768.3</td>\n      <td>0.649783</td>\n      <td>0.049555</td>\n      <td>0.133318</td>\n      <td>44.28</td>\n    </tr>\n    <tr>\n      <th>1026</th>\n      <td>322.2</td>\n      <td>0.0</td>\n      <td>196.0</td>\n      <td>10.4</td>\n      <td>817.9</td>\n      <td>813.4</td>\n      <td>0.608318</td>\n      <td>0.053061</td>\n      <td>0.000000</td>\n      <td>31.18</td>\n    </tr>\n    <tr>\n      <th>1027</th>\n      <td>148.5</td>\n      <td>139.4</td>\n      <td>192.7</td>\n      <td>6.1</td>\n      <td>892.4</td>\n      <td>780.0</td>\n      <td>1.297643</td>\n      <td>0.031655</td>\n      <td>0.156208</td>\n      <td>23.70</td>\n    </tr>\n    <tr>\n      <th>1028</th>\n      <td>159.1</td>\n      <td>186.7</td>\n      <td>175.6</td>\n      <td>11.3</td>\n      <td>989.6</td>\n      <td>788.9</td>\n      <td>1.103708</td>\n      <td>0.064351</td>\n      <td>0.188662</td>\n      <td>32.77</td>\n    </tr>\n    <tr>\n      <th>1029</th>\n      <td>260.9</td>\n      <td>100.5</td>\n      <td>200.6</td>\n      <td>8.6</td>\n      <td>864.5</td>\n      <td>761.5</td>\n      <td>0.768877</td>\n      <td>0.042871</td>\n      <td>0.116252</td>\n      <td>32.40</td>\n    </tr>\n  </tbody>\n</table>\n<p>1030 rows × 10 columns</p>\n</div>"
     },
     "execution_count": 8,
     "metadata": {},
     "output_type": "execute_result"
    }
   ],
   "source": [
    "original_inform.drop(['fly_ash', 'age'], axis=1, inplace=True)\n",
    "original_inform"
   ]
  },
  {
   "cell_type": "markdown",
   "metadata": {},
   "source": [
    "### Формируем набор преобразованных данных существенных признаков"
   ]
  },
  {
   "cell_type": "code",
   "execution_count": 9,
   "metadata": {},
   "outputs": [
    {
     "data": {
      "text/plain": "             0         1         2         3         4         5         6  \\\n0     2.477915 -0.856888 -0.916764 -0.620448  0.863154 -1.217670 -1.428268   \n1     2.477915 -0.856888 -0.916764 -0.620448  1.056164 -1.217670 -1.428268   \n2     0.491425  0.795526  2.175461 -1.039143 -0.526517 -2.240917 -0.199303   \n3     0.491425  0.795526  2.175461 -1.039143 -0.526517 -2.240917 -0.199303   \n4    -0.790459  0.678408  0.488793 -1.039143  0.070527  0.647884  0.696189   \n...        ...       ...       ...       ...       ...       ...       ...   \n1025 -0.045645  0.488235 -0.092171  0.451410 -1.323005 -0.065893 -0.313788   \n1026  0.392819 -0.856888  0.676200  0.702626 -1.994680  0.496893 -0.445904   \n1027 -1.270088  0.759579  0.521589 -0.017528 -1.036064  0.080107  1.750427   \n1028 -1.168610  1.308065 -0.279579  0.853356  0.214641  0.191166  1.132511   \n1029 -0.194033  0.308499  0.891719  0.401166 -1.395062 -0.150748  0.065670   \n\n             7         8         9  \n0    -0.561907 -0.856648  2.645408  \n1    -0.561907 -0.856648  1.561421  \n2    -0.956453  0.813492  0.266627  \n3    -0.956453  0.813492  0.313340  \n4    -0.956453  0.621526  0.507979  \n...        ...       ...       ...  \n1025  0.310489  0.599625  0.506781  \n1026  0.400142 -0.856648 -0.277762  \n1027 -0.147131  0.849659 -0.725729  \n1028  0.688778  1.204165 -0.182539  \n1029  0.139623  0.413209 -0.204697  \n\n[1030 rows x 10 columns]",
      "text/html": "<div>\n<style scoped>\n    .dataframe tbody tr th:only-of-type {\n        vertical-align: middle;\n    }\n\n    .dataframe tbody tr th {\n        vertical-align: top;\n    }\n\n    .dataframe thead th {\n        text-align: right;\n    }\n</style>\n<table border=\"1\" class=\"dataframe\">\n  <thead>\n    <tr style=\"text-align: right;\">\n      <th></th>\n      <th>0</th>\n      <th>1</th>\n      <th>2</th>\n      <th>3</th>\n      <th>4</th>\n      <th>5</th>\n      <th>6</th>\n      <th>7</th>\n      <th>8</th>\n      <th>9</th>\n    </tr>\n  </thead>\n  <tbody>\n    <tr>\n      <th>0</th>\n      <td>2.477915</td>\n      <td>-0.856888</td>\n      <td>-0.916764</td>\n      <td>-0.620448</td>\n      <td>0.863154</td>\n      <td>-1.217670</td>\n      <td>-1.428268</td>\n      <td>-0.561907</td>\n      <td>-0.856648</td>\n      <td>2.645408</td>\n    </tr>\n    <tr>\n      <th>1</th>\n      <td>2.477915</td>\n      <td>-0.856888</td>\n      <td>-0.916764</td>\n      <td>-0.620448</td>\n      <td>1.056164</td>\n      <td>-1.217670</td>\n      <td>-1.428268</td>\n      <td>-0.561907</td>\n      <td>-0.856648</td>\n      <td>1.561421</td>\n    </tr>\n    <tr>\n      <th>2</th>\n      <td>0.491425</td>\n      <td>0.795526</td>\n      <td>2.175461</td>\n      <td>-1.039143</td>\n      <td>-0.526517</td>\n      <td>-2.240917</td>\n      <td>-0.199303</td>\n      <td>-0.956453</td>\n      <td>0.813492</td>\n      <td>0.266627</td>\n    </tr>\n    <tr>\n      <th>3</th>\n      <td>0.491425</td>\n      <td>0.795526</td>\n      <td>2.175461</td>\n      <td>-1.039143</td>\n      <td>-0.526517</td>\n      <td>-2.240917</td>\n      <td>-0.199303</td>\n      <td>-0.956453</td>\n      <td>0.813492</td>\n      <td>0.313340</td>\n    </tr>\n    <tr>\n      <th>4</th>\n      <td>-0.790459</td>\n      <td>0.678408</td>\n      <td>0.488793</td>\n      <td>-1.039143</td>\n      <td>0.070527</td>\n      <td>0.647884</td>\n      <td>0.696189</td>\n      <td>-0.956453</td>\n      <td>0.621526</td>\n      <td>0.507979</td>\n    </tr>\n    <tr>\n      <th>...</th>\n      <td>...</td>\n      <td>...</td>\n      <td>...</td>\n      <td>...</td>\n      <td>...</td>\n      <td>...</td>\n      <td>...</td>\n      <td>...</td>\n      <td>...</td>\n      <td>...</td>\n    </tr>\n    <tr>\n      <th>1025</th>\n      <td>-0.045645</td>\n      <td>0.488235</td>\n      <td>-0.092171</td>\n      <td>0.451410</td>\n      <td>-1.323005</td>\n      <td>-0.065893</td>\n      <td>-0.313788</td>\n      <td>0.310489</td>\n      <td>0.599625</td>\n      <td>0.506781</td>\n    </tr>\n    <tr>\n      <th>1026</th>\n      <td>0.392819</td>\n      <td>-0.856888</td>\n      <td>0.676200</td>\n      <td>0.702626</td>\n      <td>-1.994680</td>\n      <td>0.496893</td>\n      <td>-0.445904</td>\n      <td>0.400142</td>\n      <td>-0.856648</td>\n      <td>-0.277762</td>\n    </tr>\n    <tr>\n      <th>1027</th>\n      <td>-1.270088</td>\n      <td>0.759579</td>\n      <td>0.521589</td>\n      <td>-0.017528</td>\n      <td>-1.036064</td>\n      <td>0.080107</td>\n      <td>1.750427</td>\n      <td>-0.147131</td>\n      <td>0.849659</td>\n      <td>-0.725729</td>\n    </tr>\n    <tr>\n      <th>1028</th>\n      <td>-1.168610</td>\n      <td>1.308065</td>\n      <td>-0.279579</td>\n      <td>0.853356</td>\n      <td>0.214641</td>\n      <td>0.191166</td>\n      <td>1.132511</td>\n      <td>0.688778</td>\n      <td>1.204165</td>\n      <td>-0.182539</td>\n    </tr>\n    <tr>\n      <th>1029</th>\n      <td>-0.194033</td>\n      <td>0.308499</td>\n      <td>0.891719</td>\n      <td>0.401166</td>\n      <td>-1.395062</td>\n      <td>-0.150748</td>\n      <td>0.065670</td>\n      <td>0.139623</td>\n      <td>0.413209</td>\n      <td>-0.204697</td>\n    </tr>\n  </tbody>\n</table>\n<p>1030 rows × 10 columns</p>\n</div>"
     },
     "execution_count": 9,
     "metadata": {},
     "output_type": "execute_result"
    }
   ],
   "source": [
    "scaler = StandardScaler().fit(original_inform)\n",
    "rescaled_inform = DataFrame(scaler.fit_transform(original_inform))\n",
    "rescaled_inform"
   ]
  },
  {
   "cell_type": "markdown",
   "metadata": {},
   "source": [
    "# Разделение каждого набора на обучающую и тестовую выборки"
   ]
  },
  {
   "cell_type": "code",
   "execution_count": 10,
   "metadata": {},
   "outputs": [],
   "source": [
    "test_size = 0.2\n",
    "seed = 5\n",
    "\n",
    "# Исходный набор\n",
    "\n",
    "original_data_X = original_data.iloc[:, :-1]\n",
    "original_data_Y = original_data['concrete_compressive_strength']\n",
    "\n",
    "original_data_X_train, original_data_X_test, original_data_Y_train, original_data_Y_test = \\\n",
    "train_test_split(original_data_X, original_data_Y, test_size=test_size, random_state=seed)\n",
    "\n",
    "# Преобразованные данные исходного набора\n",
    "\n",
    "rescaled_data_X = rescaled_data.iloc[:, :-1]\n",
    "rescaled_data_Y = rescaled_data.iloc[:, -1]\n",
    "\n",
    "rescaled_data_X_train, rescaled_data_X_test, rescaled_data_Y_train, rescaled_data_Y_test = \\\n",
    "train_test_split(rescaled_data_X, rescaled_data_Y, test_size=test_size, random_state=seed)\n",
    "\n",
    "# Набор данных существенных признаков\n",
    "\n",
    "original_inform_X = original_inform.iloc[:, :-1]\n",
    "original_inform_Y = original_inform['concrete_compressive_strength']\n",
    "\n",
    "original_inform_X_train, original_inform_X_test, original_inform_Y_train, original_inform_Y_test = \\\n",
    "train_test_split(original_inform_X, original_inform_Y, test_size=test_size, random_state=seed)\n",
    "\n",
    "# Набор преобразованных данных существенных признаков\n",
    "\n",
    "rescaled_inform_X = rescaled_inform.iloc[:, :-1]\n",
    "rescaled_inform_Y = rescaled_inform.iloc[:, -1]\n",
    "\n",
    "rescaled_inform_X_train, rescaled_inform_X_test, rescaled_inform_Y_train, rescaled_inform_Y_test = \\\n",
    "train_test_split(rescaled_inform_X, rescaled_inform_Y, test_size=test_size, random_state=seed)"
   ]
  },
  {
   "cell_type": "markdown",
   "metadata": {},
   "source": [
    "# Формиурем датасет обучающих данных "
   ]
  },
  {
   "cell_type": "code",
   "execution_count": 11,
   "metadata": {},
   "outputs": [],
   "source": [
    "datasets = [{'X_train': original_data_X_train, 'Y_train': original_data_Y_train,\n",
    "             'name': 'original_data'},\n",
    "            {'X_train': rescaled_data_X_train, 'Y_train': rescaled_data_Y_train,\n",
    "             'name': 'original_rescaled_data'},\n",
    "            {'X_train': original_inform_X_train, 'Y_train': original_inform_Y_train,\n",
    "             'name': 'inform_data'},\n",
    "            {'X_train': rescaled_inform_X_train, 'Y_train': rescaled_inform_Y_train,\n",
    "             'name': 'rescaled_inform_data'}]"
   ]
  },
  {
   "cell_type": "markdown",
   "metadata": {},
   "source": [
    "# Реализация SVM"
   ]
  },
  {
   "cell_type": "markdown",
   "metadata": {},
   "source": [
    "### Для начала на обучающей выборке определеим тип ядра, которое лучше всего подойдет к наборам данных, и набор данных, который даст лучшие оценки RMSE и R2"
   ]
  },
  {
   "cell_type": "code",
   "execution_count": 12,
   "metadata": {},
   "outputs": [
    {
     "name": "stdout",
     "output_type": "stream",
     "text": [
      "Линейное ядро\n",
      "\n",
      "RMSE для обучающей выборки набора данных original_data: 10.8361\n",
      "R2 для обучающей выборки набора данных original_data: 0.5949\n",
      "RMSE для обучающей выборки набора данных original_rescaled_data: 0.6637\n",
      "R2 для обучающей выборки набора данных original_rescaled_data: 0.5763\n",
      "RMSE для обучающей выборки набора данных inform_data: 12.7684\n",
      "R2 для обучающей выборки набора данных inform_data: 0.4376\n",
      "RMSE для обучающей выборки набора данных rescaled_inform_data: 0.7600\n",
      "R2 для обучающей выборки набора данных rescaled_inform_data: 0.4445\n",
      "\n",
      "Полиномиальное ядро\n",
      "\n",
      "RMSE для обучающей выборки набора данных original_data: 12.4345\n",
      "R2 для обучающей выборки набора данных original_data: 0.4666\n",
      "RMSE для обучающей выборки набора данных original_rescaled_data: 0.5592\n",
      "R2 для обучающей выборки набора данных original_rescaled_data: 0.6993\n",
      "RMSE для обучающей выборки набора данных inform_data: 14.0322\n",
      "R2 для обучающей выборки набора данных inform_data: 0.3207\n",
      "RMSE для обучающей выборки набора данных rescaled_inform_data: 0.7342\n",
      "R2 для обучающей выборки набора данных rescaled_inform_data: 0.4816\n"
     ]
    }
   ],
   "source": [
    "print('Линейное ядро\\n')\n",
    "for dataset in datasets:\n",
    "    svr_model = SVR(kernel='linear')\n",
    "    svr_model.fit(dataset.get('X_train'), dataset.get('Y_train'))\n",
    "    prediction = svr_model.predict(dataset.get('X_train'))\n",
    "    rmse = np.sqrt(mean_squared_error(dataset.get('Y_train'), prediction))\n",
    "    r2 = r2_score(dataset.get('Y_train'), prediction)\n",
    "    print(f'RMSE для обучающей выборки набора данных {dataset.get(\"name\")}:', '%.4f' %rmse)\n",
    "    print(f'R2 для обучающей выборки набора данных {dataset.get(\"name\")}:', '%.4f' %r2)\n",
    "\n",
    "print()\n",
    "print('Полиномиальное ядро\\n')\n",
    "for dataset in datasets:\n",
    "    svr_model = SVR(kernel='poly')\n",
    "    svr_model.fit(dataset.get('X_train'), dataset.get('Y_train'))\n",
    "    prediction = svr_model.predict(dataset.get('X_train'))\n",
    "    rmse = np.sqrt(mean_squared_error(dataset.get('Y_train'), prediction))\n",
    "    r2 = r2_score(dataset.get('Y_train'), prediction)\n",
    "    print(f'RMSE для обучающей выборки набора данных {dataset.get(\"name\")}:', '%.4f' %rmse)\n",
    "    print(f'R2 для обучающей выборки набора данных {dataset.get(\"name\")}:', '%.4f' %r2)"
   ]
  },
  {
   "cell_type": "markdown",
   "metadata": {},
   "source": [
    "### Для обоих типов ядер лучшим набором является исходный набор преобразованных данных. Полиномиальное ядро на этом наборе дает лучшие оценки RMSE и R2 - 0,56 и 0,7 соответственно"
   ]
  },
  {
   "cell_type": "markdown",
   "metadata": {},
   "source": [
    "# Реализация градиентного бустинга"
   ]
  },
  {
   "cell_type": "markdown",
   "metadata": {},
   "source": [
    "### Как и на предыдущем шаге, определим тип ядра и набор данных для градиентного бустинга, базовая модель - SVR"
   ]
  },
  {
   "cell_type": "code",
   "execution_count": 13,
   "metadata": {},
   "outputs": [
    {
     "name": "stdout",
     "output_type": "stream",
     "text": [
      "Линейное ядро\n",
      "\n",
      "RMSE для обучающей выборки набора данных original_data: 4.0077\n",
      "R2 для обучающей выборки набора данных original_data: 0.9446\n",
      "RMSE для обучающей выборки набора данных original_rescaled_data: 0.2444\n",
      "R2 для обучающей выборки набора данных original_rescaled_data: 0.9425\n",
      "RMSE для обучающей выборки набора данных inform_data: 10.2731\n",
      "R2 для обучающей выборки набора данных inform_data: 0.6359\n",
      "RMSE для обучающей выборки набора данных rescaled_inform_data: 0.6186\n",
      "R2 для обучающей выборки набора данных rescaled_inform_data: 0.6320\n",
      "\n",
      "Полиномиальное ядро\n",
      "\n",
      "RMSE для обучающей выборки набора данных original_data: 3.7512\n",
      "R2 для обучающей выборки набора данных original_data: 0.9515\n",
      "RMSE для обучающей выборки набора данных original_rescaled_data: 0.2768\n",
      "R2 для обучающей выборки набора данных original_rescaled_data: 0.9263\n",
      "RMSE для обучающей выборки набора данных inform_data: 10.2454\n",
      "R2 для обучающей выборки набора данных inform_data: 0.6379\n",
      "RMSE для обучающей выборки набора данных rescaled_inform_data: 0.6240\n",
      "R2 для обучающей выборки набора данных rescaled_inform_data: 0.6255\n"
     ]
    }
   ],
   "source": [
    "print('Линейное ядро\\n')\n",
    "for dataset in datasets:\n",
    "    svr_model = SVR(kernel='linear')\n",
    "    gbr_model = GradientBoostingRegressor(init=svr_model)\n",
    "    gbr_model.fit(dataset.get('X_train'), dataset.get('Y_train'))\n",
    "    prediction = gbr_model.predict(dataset.get('X_train'))\n",
    "    rmse = np.sqrt(mean_squared_error(dataset.get('Y_train'), prediction))\n",
    "    r2 = r2_score(dataset.get('Y_train'), prediction)\n",
    "    print(f'RMSE для обучающей выборки набора данных {dataset.get(\"name\")}:', '%.4f' %rmse)\n",
    "    print(f'R2 для обучающей выборки набора данных {dataset.get(\"name\")}:', '%.4f' %r2)\n",
    "\n",
    "print()\n",
    "print('Полиномиальное ядро\\n')\n",
    "for dataset in datasets:\n",
    "    svr_model = SVR(kernel='poly')\n",
    "    gbr_model = GradientBoostingRegressor(init=svr_model)\n",
    "    gbr_model.fit(dataset.get('X_train'), dataset.get('Y_train'))\n",
    "    prediction = gbr_model.predict(dataset.get('X_train'))\n",
    "    rmse = np.sqrt(mean_squared_error(dataset.get('Y_train'), prediction))\n",
    "    r2 = r2_score(dataset.get('Y_train'), prediction)\n",
    "    print(f'RMSE для обучающей выборки набора данных {dataset.get(\"name\")}:', '%.4f' %rmse)\n",
    "    print(f'R2 для обучающей выборки набора данных {dataset.get(\"name\")}:', '%.4f' %r2)"
   ]
  },
  {
   "cell_type": "markdown",
   "metadata": {},
   "source": [
    "### Для градиентного бустинга лучшей моделью является исходный набор данных, тип ядра - полиномиальное ядро с оценкой R2 = 0,95"
   ]
  },
  {
   "cell_type": "markdown",
   "metadata": {},
   "source": [
    "# Поиск гиперпараметров для SVR"
   ]
  },
  {
   "cell_type": "markdown",
   "metadata": {},
   "source": [
    "### Зададим диапазон значений для поиска по сетке, ядро - полиномиальное"
   ]
  },
  {
   "cell_type": "code",
   "execution_count": 14,
   "metadata": {},
   "outputs": [],
   "source": [
    "params_svr = {\n",
    "    'kernel': ['poly'],\n",
    "    'C': [i for i in np.linspace(5, 20, num=10)],\n",
    "    'degree': [i for i in np.arange(1, 11)],\n",
    "    'coef0': [0.1, 0.2]\n",
    "}"
   ]
  },
  {
   "cell_type": "markdown",
   "metadata": {},
   "source": [
    "### Запустим поиск по сетке для определения лучших гиперпараметров на обучающей и тестовой выборках лучшей модели - исходном наборе преобразованных данных"
   ]
  },
  {
   "cell_type": "code",
   "execution_count": 15,
   "metadata": {},
   "outputs": [
    {
     "name": "stdout",
     "output_type": "stream",
     "text": [
      "Лучшие гиперпараметры для исходного набора преобразованных данных: {'C': 11.666666666666668, 'coef0': 0.2, 'degree': 3, 'kernel': 'poly'} \n",
      "\n",
      "RMSE для обучающей выборки: 0.3149\n",
      "R2 для обучающей выборки: 0.9046 \n",
      "\n",
      "RMSE для тестовой выборки: 0.4406\n",
      "R2 для тестовой выборки: 0.7693\n"
     ]
    }
   ],
   "source": [
    "model = SVR()\n",
    "grid_search = GridSearchCV(model,\n",
    "                           params_svr,\n",
    "                           n_jobs=-1,\n",
    "                           cv=2)\n",
    "grid_search.fit(rescaled_data_X_train, rescaled_data_Y_train)\n",
    "best_svr = grid_search.best_params_\n",
    "print(f'Лучшие гиперпараметры для исходного набора преобразованных данных:', best_svr, '\\n')\n",
    "\n",
    "svr_model = SVR(**best_svr)\n",
    "svr_model.fit(rescaled_data_X_train, rescaled_data_Y_train)\n",
    "prediction_train = svr_model.predict(rescaled_data_X_train)\n",
    "rmse_train = np.sqrt(mean_squared_error(rescaled_data_Y_train, prediction_train))\n",
    "r2_train = r2_score(rescaled_data_Y_train, prediction_train)\n",
    "print(f'RMSE для обучающей выборки:', '%.4f' %rmse_train)\n",
    "print(f'R2 для обучающей выборки:', '%.4f' %r2_train, '\\n')\n",
    "\n",
    "prediction_test = svr_model.predict(rescaled_data_X_test)\n",
    "rmse_test = np.sqrt(mean_squared_error(rescaled_data_Y_test, prediction_test))\n",
    "r2_test = r2_score(rescaled_data_Y_test, prediction_test)\n",
    "print(f'RMSE для тестовой выборки:', '%.4f' %rmse_test)\n",
    "print(f'R2 для тестовой выборки:', '%.4f' %r2_test)"
   ]
  },
  {
   "cell_type": "markdown",
   "metadata": {},
   "source": [
    "### Как видно из расчетов, после определения гиперпараметров значения RMSE и R2 значительно улучшились"
   ]
  },
  {
   "cell_type": "markdown",
   "metadata": {},
   "source": [
    "# Поиск гиперпараметров для градиентного бустинга с базовой моделью SVR"
   ]
  },
  {
   "cell_type": "markdown",
   "metadata": {},
   "source": [
    "### Зададим диапазон значений для поиска по сетке "
   ]
  },
  {
   "cell_type": "code",
   "execution_count": 16,
   "metadata": {},
   "outputs": [],
   "source": [
    "params_gbr = {\n",
    "    'learning_rate': [0.01, 0.1, 1],\n",
    "    'n_estimators': [50, 100, 200],\n",
    "    'max_depth': [1, 2, 3, 4, 5]\n",
    "}"
   ]
  },
  {
   "cell_type": "code",
   "execution_count": 17,
   "metadata": {
    "scrolled": false
   },
   "outputs": [
    {
     "name": "stdout",
     "output_type": "stream",
     "text": [
      "Лучшие гиперпараметры для исходного набора преобразованных данных: {'learning_rate': 0.1, 'max_depth': 4, 'n_estimators': 200} \n",
      "\n",
      "RMSE для обучающей выборки: 2.0431\n",
      "R2 для обучающей выборки: 0.9856 \n",
      "\n",
      "RMSE для тестовой: 4.3835\n",
      "R2 для тестовой: 0.9181\n"
     ]
    }
   ],
   "source": [
    "base_model = SVR(kernel='poly', C=10, degree=10, coef0=0.2)\n",
    "gradboost_model = GradientBoostingRegressor(init=base_model)\n",
    "grid_search = GridSearchCV(gradboost_model,\n",
    "                           params_gbr,\n",
    "                           n_jobs=-1,\n",
    "                           cv=2,)\n",
    "grid_search.fit(original_data_X_train,\n",
    "                original_data_Y_train)\n",
    "best_gbr = grid_search.best_params_\n",
    "print(f'Лучшие гиперпараметры для исходного набора преобразованных данных:', best_gbr, '\\n')\n",
    "\n",
    "svr_base = SVR(kernel='poly', C=10)\n",
    "gbr_model = GradientBoostingRegressor(init=svr_base, **best_gbr)\n",
    "gbr_model.fit(original_data_X_train, original_data_Y_train)\n",
    "prediction_train = gbr_model.predict(original_data_X_train)\n",
    "rmse_train = np.sqrt(mean_squared_error(original_data_Y_train, prediction_train))\n",
    "r2_train = r2_score(original_data_Y_train, prediction_train)\n",
    "print(f'RMSE для обучающей выборки:', '%.4f' %rmse_train)\n",
    "print(f'R2 для обучающей выборки:', '%.4f' %r2_train, '\\n')\n",
    "\n",
    "prediction_test = gbr_model.predict(original_data_X_test)\n",
    "rmse_test = np.sqrt(mean_squared_error(original_data_Y_test, prediction_test))\n",
    "r2_test = r2_score(original_data_Y_test, prediction_test)\n",
    "print(f'RMSE для тестовой:', '%.4f' %rmse_test)\n",
    "print(f'R2 для тестовой:', '%.4f' %r2_test)"
   ]
  },
  {
   "cell_type": "markdown",
   "metadata": {},
   "source": [
    "В первой лабораторной работе лучшей предиктивной моделью была полиномиальная регрессия 3 степени, на исходном преобразованном наборе данных с оценкой R2 = 0,82 на тестовых данных.\n",
    "\n",
    "Во второй лабораторной работе лучшей моделью является градиентный бустинг на исходном наборе с R2 = 0,92 на тестовых данных, что выше, чем у полиномиальной регрессии."
   ]
  }
 ],
 "metadata": {
  "kernelspec": {
   "display_name": "Python 3 (ipykernel)",
   "language": "python",
   "name": "python3"
  },
  "language_info": {
   "codemirror_mode": {
    "name": "ipython",
    "version": 3
   },
   "file_extension": ".py",
   "mimetype": "text/x-python",
   "name": "python",
   "nbconvert_exporter": "python",
   "pygments_lexer": "ipython3",
   "version": "3.9.16"
  }
 },
 "nbformat": 4,
 "nbformat_minor": 4
}
