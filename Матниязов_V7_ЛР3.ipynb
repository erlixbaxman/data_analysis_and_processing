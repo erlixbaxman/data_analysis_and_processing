{
 "cells": [
  {
   "cell_type": "markdown",
   "source": [
    "### загружаем библиотеки"
   ],
   "metadata": {
    "collapsed": false
   }
  },
  {
   "cell_type": "code",
   "execution_count": 1,
   "outputs": [],
   "source": [
    "from openpyxl import load_workbook\n",
    "import numpy as np\n",
    "import pandas as pd\n",
    "from sklearn.preprocessing import MinMaxScaler\n",
    "from sklearn.model_selection import train_test_split, GridSearchCV"
   ],
   "metadata": {
    "collapsed": false
   }
  },
  {
   "cell_type": "code",
   "execution_count": 2,
   "outputs": [],
   "source": [
    "# book = load_workbook('V7RS41at_12.05.2014ТЗЧ_или_СС.xlsx')\n",
    "# sheet = book.active\n",
    "# classes = []\n",
    "# # ignore_columns = []\n",
    "# #\n",
    "# # for column in range(1, sheet.max_column):\n",
    "# #     if sheet[1][column].fill.fgColor.rgb == 'FFFFFF00':\n",
    "# #         ignore_columns.append(column)\n",
    "#\n",
    "# for row in range(2,  sheet.max_row):\n",
    "#     red_cell_in_row = False\n",
    "#     for column in range(1, sheet.max_column):\n",
    "#         # if column not in ignore_columns:\n",
    "#         cell = sheet[row][column]\n",
    "#         row_value = row - 1\n",
    "#         while cell.value is None:\n",
    "#             cell = sheet[row_value][column]\n",
    "#             row_value -= 1\n",
    "#         if cell.font.color.value == 'FFFF0000':\n",
    "#             red_cell_in_row = True\n",
    "#             break\n",
    "#\n",
    "#     if red_cell_in_row:\n",
    "#         if classes[-1] == 0:\n",
    "#             classes.append(2)\n",
    "#         elif classes[-1] == 1:\n",
    "#             classes.append(1)\n",
    "#         elif classes[-3:] == [2, 2, 2]:\n",
    "#             classes = classes[:-3] + [1, 1, 1, 1]\n",
    "#         elif classes[-1] == 2:\n",
    "#             classes.append(2)\n",
    "#     else:\n",
    "#         classes.append(0)\n",
    "#\n",
    "# print(classes)"
   ],
   "metadata": {
    "collapsed": false
   }
  },
  {
   "cell_type": "code",
   "execution_count": 3,
   "outputs": [],
   "source": [
    "classes = [0, 0, 0, 0, 0, 0, 0, 2, 2, 0, 2, 0, 0, 2, 0, 0, 0, 0, 0, 0, 0, 0, 0, 1, 1, 1, 1, 1, 0, 0, 0, 0, 0, 0, 0, 0, 0, 0, 0, 0, 0, 0, 0, 0, 2, 0, 0, 0, 0, 0, 0, 0, 0, 0, 0, 0, 0, 0, 0, 0, 0, 0, 1, 1, 1, 1, 1, 1, 1, 1, 0, 0, 0, 0, 0, 0, 0, 0, 0, 0, 0, 0, 0, 0, 0, 0, 0, 0, 0, 0, 0, 0, 0, 0, 0, 0, 0, 0, 0, 0, 0, 0, 0, 0, 0, 0, 0, 0, 0, 0, 0, 0, 0, 0, 0, 0, 0, 0, 2, 2, 2, 0, 0, 0, 0, 0, 0, 0, 0, 0, 0, 2, 2, 0, 0, 0, 0, 0, 0, 0, 0, 0, 0, 2, 0, 0, 0, 0, 0, 0, 0, 0, 0, 0, 0, 0, 0, 0, 0, 0, 0, 0, 0, 2, 0, 0, 0, 0, 0, 0, 0, 0, 0, 0, 0, 0, 0, 0, 0, 0, 0, 0, 0, 0, 0, 0, 0, 0, 0, 0, 0, 0, 0, 0, 0, 0, 0, 0, 0, 0, 0, 0, 0, 0, 0, 0, 2, 0, 0, 0, 0, 0, 0, 0, 0, 0, 0, 2, 0, 0, 0, 0, 0, 0, 0, 0, 0, 0, 0, 0, 0, 0, 0, 0, 0, 0, 0, 0, 0, 0, 0, 0, 0, 0, 0, 0, 0, 0, 0, 0, 0, 0, 0, 0, 0, 0, 0, 0, 0, 0, 0, 0, 0, 0, 0, 2, 2, 0, 0, 0, 0, 0, 0, 0, 0, 0, 0, 0, 0, 0, 0, 0, 0, 0, 0, 0, 0, 0, 0, 0, 0, 0, 0, 0, 0, 0, 2, 0, 0, 0, 0, 0, 0, 0, 0, 0, 0, 2, 2, 0, 0, 0, 0, 1, 1, 1, 1, 1, 1, 1, 1, 0, 2, 0, 0, 0, 0, 0, 0, 0, 0, 0, 1, 1, 1, 1, 1, 0, 2, 0, 0, 0, 0, 0, 0, 0, 0, 0, 0, 0, 0, 0, 0, 0, 0, 0, 0, 0, 0, 0, 0, 0, 2, 0, 0, 0, 0, 2, 2, 0, 0, 0, 0, 0, 0, 0, 0, 0, 0, 0, 0, 2, 0, 0, 0, 0, 0, 0, 0, 0, 0, 0, 0, 0, 0, 0, 1, 1, 1, 1, 1, 0, 0, 0, 0, 0, 0, 0, 0, 0, 0, 0, 0, 0, 0, 0, 0, 0, 0, 0, 0, 0, 0, 0, 0, 0, 0, 0, 0, 0, 0, 1, 1, 1, 1, 1, 1, 1, 1, 1, 1, 1, 0, 0, 0, 0, 0, 0, 0, 2, 0, 0, 0, 0, 0, 0, 0, 0, 2, 0, 0, 0, 0, 0, 0, 0, 0, 2, 2, 2, 0, 0, 0, 0, 0, 0, 0, 0, 0, 0, 0, 0, 0, 2, 0, 0, 0, 0, 0, 0, 0, 2, 2, 0, 0, 0, 0, 0, 1, 1, 1, 1, 1, 0, 0, 0, 0, 0, 0, 0, 0, 0, 0, 0, 0, 0, 0, 0, 0, 0, 0, 0, 0, 0, 2, 2, 0, 2, 0, 0, 0, 0, 0, 2, 2, 0, 0, 0, 0, 0, 2, 0, 0, 2, 2, 0, 2, 2, 0, 0, 0, 0, 1, 1, 1, 1, 1, 1, 1, 1, 1, 0, 2, 2, 2, 0, 0, 0, 0, 0, 0, 0, 0, 0, 1, 1, 1, 1, 1, 0, 0, 0, 0, 0, 0, 1, 1, 1, 1, 1, 0, 0, 1, 1, 1, 1, 0, 0, 1, 1, 1, 1, 1, 1, 1, 1, 1, 1, 1, 1, 1, 1, 1, 0, 0, 2, 0, 1, 1, 1, 1, 1, 1, 0, 2, 0, 0, 0, 0, 0, 2, 2, 0, 2, 0, 0, 0, 1, 1, 1, 1, 1, 1, 0, 0, 0, 0, 0, 2, 0, 0, 1, 1, 1, 1, 0, 0, 0, 0, 0, 0, 0, 1, 1, 1, 1, 1, 1, 0, 1, 1, 1, 1, 0, 0, 0, 0, 0, 0, 2, 0, 0, 0, 0, 0, 0, 0, 2, 2, 2, 0, 0, 0, 2, 2, 0, 0, 1, 1, 1, 1, 0, 0, 0, 2, 0, 0, 2, 0, 0, 0, 0, 0, 0, 2, 0, 0, 0, 0, 0, 2, 0, 0, 0, 0, 0, 0, 0, 2, 0, 0, 0, 2, 0, 0, 0, 0, 0, 0, 2, 0, 2, 0, 0, 0, 0, 0, 0, 0, 0, 0, 0, 0, 0, 0, 0, 0, 0, 0, 0, 0, 0, 0, 0, 0, 2, 0, 0, 0, 0, 0, 0, 0, 0, 0, 2, 0, 0, 0, 0, 0, 0, 0, 0, 0, 0, 0, 0, 0, 0, 0, 0, 0, 0, 0, 0, 1, 1, 1, 1, 1, 0, 0, 0, 0, 0, 1, 1, 1, 1, 1, 1, 1, 1, 1, 1, 1, 1, 1, 1, 1, 1, 1, 1, 1, 1, 1, 1, 1, 1, 1, 1, 1, 0, 0, 1, 1, 1, 1, 1, 1, 1, 1, 1, 1, 1, 1, 1, 1, 1, 1, 1, 1, 1, 1, 1, 1, 1, 1, 1, 1, 0, 0, 0, 0, 0, 0, 0, 0, 0, 0, 0, 0, 0, 0, 0, 0, 0, 0, 0, 0, 0, 1, 1, 1, 1, 1, 1, 1, 0, 0, 0, 0, 0, 0, 0, 0, 0, 0, 0, 0, 0, 0, 0, 2, 0, 0, 0, 0, 0, 0, 0, 0, 2, 2, 0, 0, 0, 0, 0, 0, 0, 0, 0, 0, 0, 0, 0, 0, 0, 2, 0, 0, 0, 0, 0, 0, 0, 0, 0, 0, 0, 0, 0, 0, 0, 0, 0, 0, 0, 0, 0, 0, 0, 0, 0, 0, 0, 0, 0, 0, 0, 0, 0, 0, 0, 0, 0, 0, 0, 0, 0, 0, 0, 0, 0, 0, 0, 0, 0, 0, 0, 2, 0, 0, 0, 0, 2, 0, 0, 0, 0, 0, 0, 0, 0, 2, 2, 2, 0, 0, 0, 0, 0, 0, 0, 0, 0, 1, 1, 1, 1, 0, 0, 0, 0, 0, 0, 0, 0, 0, 0, 0, 0, 1, 1, 1, 1, 1, 1, 1, 1, 0, 0, 0, 0, 0, 0, 0, 0, 0, 0, 0, 0, 0, 0, 0, 0, 0, 0, 0, 2, 0, 0, 0, 2, 2, 0, 0, 0, 0, 0, 1, 1, 1, 1, 1, 0, 0, 0, 2, 2, 2, 0, 0, 0, 0, 2, 0, 0, 0, 0, 0, 0, 0, 0, 0, 0, 0, 0, 0, 2, 0, 2, 0, 2, 2, 0, 0, 0, 0, 0, 0, 0, 0, 0, 0, 0, 0, 0, 0, 0, 0, 0, 0, 0, 0, 0, 0, 0, 1, 1, 1, 1, 0, 0, 0, 0, 2, 2, 0, 0, 0, 0, 1, 1, 1, 1, 1, 1, 1, 1, 1, 0, 0, 0, 0, 0, 0, 0, 0, 0, 0, 2, 0, 0, 0, 0, 0, 0, 0, 0, 0, 0, 0, 0, 0, 0, 0, 0, 0, 0, 0, 0, 0, 0, 0, 2, 0, 0, 0, 0, 2, 0, 0, 0, 0, 0, 0, 0, 0, 0, 0, 2, 2, 2, 0, 0, 0, 0, 0, 0, 0, 0, 0, 0, 2, 2, 0, 0, 2, 0, 0, 0, 0, 0, 0, 0, 0, 0, 0, 0, 0, 0, 0, 2, 0, 0, 0, 0, 0, 0, 0, 0, 0, 0, 0, 0, 0, 0, 0, 0, 0, 0, 0, 0, 0, 0, 0, 0, 0, 2, 2, 0, 0, 0, 0, 2, 0, 0, 0, 0, 0, 0, 0, 0, 2, 0, 0, 0, 0, 0, 0, 0, 0, 0, 0, 0, 0, 0, 0, 0, 2, 0, 0, 0, 2, 0, 0, 2, 2, 2, 0, 0, 0, 0, 0, 0, 0, 2, 0, 0, 0, 0, 0, 0, 0, 0, 0, 0, 0, 0, 0, 0, 2, 0, 0, 0, 0, 0, 0, 0, 0, 0, 0, 0, 0, 0, 0, 0, 0, 2, 2, 0, 0, 0, 0, 0, 0, 0, 0, 0, 0, 0, 0, 0, 0, 0, 0, 0, 0, 0, 0, 2, 0, 0, 0, 0, 0, 0, 0, 0, 0, 0, 0, 0, 0, 0, 0, 0, 2, 0, 0, 0, 0, 0, 0, 0, 0, 0, 0, 0, 0, 0, 2, 0, 0, 0, 0, 2, 0, 0, 0, 2, 0, 0, 0, 0, 0, 0, 0, 0, 0, 0, 2, 0, 0, 2, 0, 0, 0, 0, 0, 0, 0, 0, 0, 0, 0, 0, 0, 2, 0, 0, 0, 0, 0, 0, 0, 0, 0, 0, 0, 0, 0, 0, 0, 0, 0, 0]"
   ],
   "metadata": {
    "collapsed": false
   }
  },
  {
   "cell_type": "markdown",
   "source": [
    "### считываем данные"
   ],
   "metadata": {
    "collapsed": false
   }
  },
  {
   "cell_type": "code",
   "execution_count": 4,
   "outputs": [
    {
     "data": {
      "text/plain": "              Unnamed: 0  Ubs,V  Ibs,A  Isun,A     RKPT,b  Sst0x,b  Sst1x,b  \\\n0    2014-05-12 00:00:10  14.37   0.27    0.00  1000000.0    110.0      0.0   \n1    2014-05-12 00:01:10  14.37   0.21    0.00  1000000.0    110.0      0.0   \n2    2014-05-12 00:02:10  14.37   0.21    0.00  1000000.0    110.0      0.0   \n3    2014-05-12 00:03:10  14.37   0.24    0.00  1000000.0    110.0      0.0   \n4    2014-05-12 00:04:10  14.37   0.21    0.00  1000000.0    110.0      0.0   \n...                  ...    ...    ...     ...        ...      ...      ...   \n1435 2014-05-12 23:55:49  14.69   0.27    0.03  1000000.0    110.0      0.0   \n1436 2014-05-12 23:56:50  14.76   0.19    0.51  1000000.0    110.0      0.0   \n1437 2014-05-12 23:57:50  14.76   0.24    0.93  1000000.0    110.0      0.0   \n1438 2014-05-12 23:58:50  14.76   0.21    0.85  1000000.0    110.0      0.0   \n1439 2014-05-12 23:59:50  14.76   0.19    0.43  1000000.0    110.0      0.0   \n\n      Ipt0,A  Ipt1,A  Ipt2,A  ...  SPrm2,V  VP,d  ShKom,d  Kmnd,d  God,h  \\\n0        0.0    0.07    0.07  ...     0.98   0.0    134.0  2020.0     14   \n1        0.0    0.07    0.07  ...     0.96   0.0    134.0  2020.0     14   \n2        0.0    0.04    0.07  ...     0.99   0.0    134.0  2020.0     14   \n3        0.0    0.07    0.09  ...     0.98   0.0    134.0  2020.0     14   \n4        0.0    0.07    0.07  ...     0.99   0.0    134.0  2020.0     14   \n...      ...     ...     ...  ...      ...   ...      ...     ...    ...   \n1435     0.0    0.09    0.07  ...     0.99   0.0    180.0  2010.0     14   \n1436     0.0    0.07    0.07  ...     0.96   0.0    180.0  2010.0     14   \n1437     0.0    0.09    0.09  ...     0.99   0.0    180.0  2010.0     14   \n1438     0.0    0.07    0.07  ...     0.96   0.0    180.0  2010.0     14   \n1439     0.0    0.07    0.09  ...     0.98   0.0    180.0  2010.0     14   \n\n      Mes,h  Den,h  Chas,h  Min,h  Sec  \n0         5     12       0      0   10  \n1         5     12       0      1   10  \n2         5     12       0      2   10  \n3         5     12       0      3   10  \n4         5     12       0      4   10  \n...     ...    ...     ...    ...  ...  \n1435      5     12      23     55   49  \n1436      5     12      23     56   50  \n1437      5     12      23     57   50  \n1438      5     12      23     58   50  \n1439      5     12      23     59   50  \n\n[1440 rows x 127 columns]",
      "text/html": "<div>\n<style scoped>\n    .dataframe tbody tr th:only-of-type {\n        vertical-align: middle;\n    }\n\n    .dataframe tbody tr th {\n        vertical-align: top;\n    }\n\n    .dataframe thead th {\n        text-align: right;\n    }\n</style>\n<table border=\"1\" class=\"dataframe\">\n  <thead>\n    <tr style=\"text-align: right;\">\n      <th></th>\n      <th>Unnamed: 0</th>\n      <th>Ubs,V</th>\n      <th>Ibs,A</th>\n      <th>Isun,A</th>\n      <th>RKPT,b</th>\n      <th>Sst0x,b</th>\n      <th>Sst1x,b</th>\n      <th>Ipt0,A</th>\n      <th>Ipt1,A</th>\n      <th>Ipt2,A</th>\n      <th>...</th>\n      <th>SPrm2,V</th>\n      <th>VP,d</th>\n      <th>ShKom,d</th>\n      <th>Kmnd,d</th>\n      <th>God,h</th>\n      <th>Mes,h</th>\n      <th>Den,h</th>\n      <th>Chas,h</th>\n      <th>Min,h</th>\n      <th>Sec</th>\n    </tr>\n  </thead>\n  <tbody>\n    <tr>\n      <th>0</th>\n      <td>2014-05-12 00:00:10</td>\n      <td>14.37</td>\n      <td>0.27</td>\n      <td>0.00</td>\n      <td>1000000.0</td>\n      <td>110.0</td>\n      <td>0.0</td>\n      <td>0.0</td>\n      <td>0.07</td>\n      <td>0.07</td>\n      <td>...</td>\n      <td>0.98</td>\n      <td>0.0</td>\n      <td>134.0</td>\n      <td>2020.0</td>\n      <td>14</td>\n      <td>5</td>\n      <td>12</td>\n      <td>0</td>\n      <td>0</td>\n      <td>10</td>\n    </tr>\n    <tr>\n      <th>1</th>\n      <td>2014-05-12 00:01:10</td>\n      <td>14.37</td>\n      <td>0.21</td>\n      <td>0.00</td>\n      <td>1000000.0</td>\n      <td>110.0</td>\n      <td>0.0</td>\n      <td>0.0</td>\n      <td>0.07</td>\n      <td>0.07</td>\n      <td>...</td>\n      <td>0.96</td>\n      <td>0.0</td>\n      <td>134.0</td>\n      <td>2020.0</td>\n      <td>14</td>\n      <td>5</td>\n      <td>12</td>\n      <td>0</td>\n      <td>1</td>\n      <td>10</td>\n    </tr>\n    <tr>\n      <th>2</th>\n      <td>2014-05-12 00:02:10</td>\n      <td>14.37</td>\n      <td>0.21</td>\n      <td>0.00</td>\n      <td>1000000.0</td>\n      <td>110.0</td>\n      <td>0.0</td>\n      <td>0.0</td>\n      <td>0.04</td>\n      <td>0.07</td>\n      <td>...</td>\n      <td>0.99</td>\n      <td>0.0</td>\n      <td>134.0</td>\n      <td>2020.0</td>\n      <td>14</td>\n      <td>5</td>\n      <td>12</td>\n      <td>0</td>\n      <td>2</td>\n      <td>10</td>\n    </tr>\n    <tr>\n      <th>3</th>\n      <td>2014-05-12 00:03:10</td>\n      <td>14.37</td>\n      <td>0.24</td>\n      <td>0.00</td>\n      <td>1000000.0</td>\n      <td>110.0</td>\n      <td>0.0</td>\n      <td>0.0</td>\n      <td>0.07</td>\n      <td>0.09</td>\n      <td>...</td>\n      <td>0.98</td>\n      <td>0.0</td>\n      <td>134.0</td>\n      <td>2020.0</td>\n      <td>14</td>\n      <td>5</td>\n      <td>12</td>\n      <td>0</td>\n      <td>3</td>\n      <td>10</td>\n    </tr>\n    <tr>\n      <th>4</th>\n      <td>2014-05-12 00:04:10</td>\n      <td>14.37</td>\n      <td>0.21</td>\n      <td>0.00</td>\n      <td>1000000.0</td>\n      <td>110.0</td>\n      <td>0.0</td>\n      <td>0.0</td>\n      <td>0.07</td>\n      <td>0.07</td>\n      <td>...</td>\n      <td>0.99</td>\n      <td>0.0</td>\n      <td>134.0</td>\n      <td>2020.0</td>\n      <td>14</td>\n      <td>5</td>\n      <td>12</td>\n      <td>0</td>\n      <td>4</td>\n      <td>10</td>\n    </tr>\n    <tr>\n      <th>...</th>\n      <td>...</td>\n      <td>...</td>\n      <td>...</td>\n      <td>...</td>\n      <td>...</td>\n      <td>...</td>\n      <td>...</td>\n      <td>...</td>\n      <td>...</td>\n      <td>...</td>\n      <td>...</td>\n      <td>...</td>\n      <td>...</td>\n      <td>...</td>\n      <td>...</td>\n      <td>...</td>\n      <td>...</td>\n      <td>...</td>\n      <td>...</td>\n      <td>...</td>\n      <td>...</td>\n    </tr>\n    <tr>\n      <th>1435</th>\n      <td>2014-05-12 23:55:49</td>\n      <td>14.69</td>\n      <td>0.27</td>\n      <td>0.03</td>\n      <td>1000000.0</td>\n      <td>110.0</td>\n      <td>0.0</td>\n      <td>0.0</td>\n      <td>0.09</td>\n      <td>0.07</td>\n      <td>...</td>\n      <td>0.99</td>\n      <td>0.0</td>\n      <td>180.0</td>\n      <td>2010.0</td>\n      <td>14</td>\n      <td>5</td>\n      <td>12</td>\n      <td>23</td>\n      <td>55</td>\n      <td>49</td>\n    </tr>\n    <tr>\n      <th>1436</th>\n      <td>2014-05-12 23:56:50</td>\n      <td>14.76</td>\n      <td>0.19</td>\n      <td>0.51</td>\n      <td>1000000.0</td>\n      <td>110.0</td>\n      <td>0.0</td>\n      <td>0.0</td>\n      <td>0.07</td>\n      <td>0.07</td>\n      <td>...</td>\n      <td>0.96</td>\n      <td>0.0</td>\n      <td>180.0</td>\n      <td>2010.0</td>\n      <td>14</td>\n      <td>5</td>\n      <td>12</td>\n      <td>23</td>\n      <td>56</td>\n      <td>50</td>\n    </tr>\n    <tr>\n      <th>1437</th>\n      <td>2014-05-12 23:57:50</td>\n      <td>14.76</td>\n      <td>0.24</td>\n      <td>0.93</td>\n      <td>1000000.0</td>\n      <td>110.0</td>\n      <td>0.0</td>\n      <td>0.0</td>\n      <td>0.09</td>\n      <td>0.09</td>\n      <td>...</td>\n      <td>0.99</td>\n      <td>0.0</td>\n      <td>180.0</td>\n      <td>2010.0</td>\n      <td>14</td>\n      <td>5</td>\n      <td>12</td>\n      <td>23</td>\n      <td>57</td>\n      <td>50</td>\n    </tr>\n    <tr>\n      <th>1438</th>\n      <td>2014-05-12 23:58:50</td>\n      <td>14.76</td>\n      <td>0.21</td>\n      <td>0.85</td>\n      <td>1000000.0</td>\n      <td>110.0</td>\n      <td>0.0</td>\n      <td>0.0</td>\n      <td>0.07</td>\n      <td>0.07</td>\n      <td>...</td>\n      <td>0.96</td>\n      <td>0.0</td>\n      <td>180.0</td>\n      <td>2010.0</td>\n      <td>14</td>\n      <td>5</td>\n      <td>12</td>\n      <td>23</td>\n      <td>58</td>\n      <td>50</td>\n    </tr>\n    <tr>\n      <th>1439</th>\n      <td>2014-05-12 23:59:50</td>\n      <td>14.76</td>\n      <td>0.19</td>\n      <td>0.43</td>\n      <td>1000000.0</td>\n      <td>110.0</td>\n      <td>0.0</td>\n      <td>0.0</td>\n      <td>0.07</td>\n      <td>0.09</td>\n      <td>...</td>\n      <td>0.98</td>\n      <td>0.0</td>\n      <td>180.0</td>\n      <td>2010.0</td>\n      <td>14</td>\n      <td>5</td>\n      <td>12</td>\n      <td>23</td>\n      <td>59</td>\n      <td>50</td>\n    </tr>\n  </tbody>\n</table>\n<p>1440 rows × 127 columns</p>\n</div>"
     },
     "execution_count": 4,
     "metadata": {},
     "output_type": "execute_result"
    }
   ],
   "source": [
    "data = pd.read_excel('V7RS41at_12.05.2014ТЗЧ_или_СС.xlsx')\n",
    "data"
   ],
   "metadata": {
    "collapsed": false
   }
  },
  {
   "cell_type": "markdown",
   "source": [
    "### удалим столбцы"
   ],
   "metadata": {
    "collapsed": false
   }
  },
  {
   "cell_type": "code",
   "execution_count": 5,
   "outputs": [
    {
     "data": {
      "text/plain": "      Ubs,V  Ibs,A  Isun,A  Ipt1,A  Ipt2,A  Ipt3,A  Ipt4,A  Ipt5,A  Ipt6,A  \\\n0     14.37   0.27    0.00    0.07    0.07     0.0     0.0     0.0     0.0   \n1     14.37   0.21    0.00    0.07    0.07     0.0     0.0     0.0     0.0   \n2     14.37   0.21    0.00    0.04    0.07     0.0     0.0     0.0     0.0   \n3     14.37   0.24    0.00    0.07    0.09     0.0     0.0     0.0     0.0   \n4     14.37   0.21    0.00    0.07    0.07     0.0     0.0     0.0     0.0   \n...     ...    ...     ...     ...     ...     ...     ...     ...     ...   \n1435  14.69   0.27    0.03    0.09    0.07     0.0     0.0     0.0     0.0   \n1436  14.76   0.19    0.51    0.07    0.07     0.0     0.0     0.0     0.0   \n1437  14.76   0.24    0.93    0.09    0.09     0.0     0.0     0.0     0.0   \n1438  14.76   0.21    0.85    0.07    0.07     0.0     0.0     0.0     0.0   \n1439  14.76   0.19    0.43    0.07    0.09     0.0     0.0     0.0     0.0   \n\n      Ipt7,A  ...  TDS6,C  TDS7,C  TDS8,C  TDS9,C  TKpt,C  TGbv,C  TNap,C  \\\n0        0.0  ...    20.0    22.0    22.0    22.0    27.0    22.0    22.0   \n1        0.0  ...    20.0    22.0    22.0    22.0    27.0    22.0    22.0   \n2        0.0  ...    20.0    22.0    22.0    22.0    27.0    22.0    22.0   \n3        0.0  ...    20.0    22.0    22.0    22.0    27.0    22.0    22.0   \n4        0.0  ...    20.0    21.0    22.0    21.0    27.0    22.0    22.0   \n...      ...  ...     ...     ...     ...     ...     ...     ...     ...   \n1435     0.0  ...    21.0    21.0    21.0    20.0    27.0    20.0    19.0   \n1436     0.0  ...    21.0    21.0    21.0    21.0    27.0    20.0    19.0   \n1437     0.0  ...    21.0    21.0    21.0    21.0    27.0    20.0    20.0   \n1438     0.0  ...    21.0    21.0    21.0    21.0    27.0    20.0    20.0   \n1439     0.0  ...    21.0    21.0    21.0    21.0    27.0    20.0    20.0   \n\n      TPrd2,C  TPrd1,C  TDS24,C  \n0        23.0     23.0     23.0  \n1        23.0     23.0     23.0  \n2        23.0     23.0     23.0  \n3        23.0     23.0     23.0  \n4        23.0     23.0     23.0  \n...       ...      ...      ...  \n1435     21.0     21.0     23.0  \n1436     21.0     21.0     23.0  \n1437     21.0     21.0     23.0  \n1438     21.0     21.0     23.0  \n1439     21.0     21.0     23.0  \n\n[1440 rows x 49 columns]",
      "text/html": "<div>\n<style scoped>\n    .dataframe tbody tr th:only-of-type {\n        vertical-align: middle;\n    }\n\n    .dataframe tbody tr th {\n        vertical-align: top;\n    }\n\n    .dataframe thead th {\n        text-align: right;\n    }\n</style>\n<table border=\"1\" class=\"dataframe\">\n  <thead>\n    <tr style=\"text-align: right;\">\n      <th></th>\n      <th>Ubs,V</th>\n      <th>Ibs,A</th>\n      <th>Isun,A</th>\n      <th>Ipt1,A</th>\n      <th>Ipt2,A</th>\n      <th>Ipt3,A</th>\n      <th>Ipt4,A</th>\n      <th>Ipt5,A</th>\n      <th>Ipt6,A</th>\n      <th>Ipt7,A</th>\n      <th>...</th>\n      <th>TDS6,C</th>\n      <th>TDS7,C</th>\n      <th>TDS8,C</th>\n      <th>TDS9,C</th>\n      <th>TKpt,C</th>\n      <th>TGbv,C</th>\n      <th>TNap,C</th>\n      <th>TPrd2,C</th>\n      <th>TPrd1,C</th>\n      <th>TDS24,C</th>\n    </tr>\n  </thead>\n  <tbody>\n    <tr>\n      <th>0</th>\n      <td>14.37</td>\n      <td>0.27</td>\n      <td>0.00</td>\n      <td>0.07</td>\n      <td>0.07</td>\n      <td>0.0</td>\n      <td>0.0</td>\n      <td>0.0</td>\n      <td>0.0</td>\n      <td>0.0</td>\n      <td>...</td>\n      <td>20.0</td>\n      <td>22.0</td>\n      <td>22.0</td>\n      <td>22.0</td>\n      <td>27.0</td>\n      <td>22.0</td>\n      <td>22.0</td>\n      <td>23.0</td>\n      <td>23.0</td>\n      <td>23.0</td>\n    </tr>\n    <tr>\n      <th>1</th>\n      <td>14.37</td>\n      <td>0.21</td>\n      <td>0.00</td>\n      <td>0.07</td>\n      <td>0.07</td>\n      <td>0.0</td>\n      <td>0.0</td>\n      <td>0.0</td>\n      <td>0.0</td>\n      <td>0.0</td>\n      <td>...</td>\n      <td>20.0</td>\n      <td>22.0</td>\n      <td>22.0</td>\n      <td>22.0</td>\n      <td>27.0</td>\n      <td>22.0</td>\n      <td>22.0</td>\n      <td>23.0</td>\n      <td>23.0</td>\n      <td>23.0</td>\n    </tr>\n    <tr>\n      <th>2</th>\n      <td>14.37</td>\n      <td>0.21</td>\n      <td>0.00</td>\n      <td>0.04</td>\n      <td>0.07</td>\n      <td>0.0</td>\n      <td>0.0</td>\n      <td>0.0</td>\n      <td>0.0</td>\n      <td>0.0</td>\n      <td>...</td>\n      <td>20.0</td>\n      <td>22.0</td>\n      <td>22.0</td>\n      <td>22.0</td>\n      <td>27.0</td>\n      <td>22.0</td>\n      <td>22.0</td>\n      <td>23.0</td>\n      <td>23.0</td>\n      <td>23.0</td>\n    </tr>\n    <tr>\n      <th>3</th>\n      <td>14.37</td>\n      <td>0.24</td>\n      <td>0.00</td>\n      <td>0.07</td>\n      <td>0.09</td>\n      <td>0.0</td>\n      <td>0.0</td>\n      <td>0.0</td>\n      <td>0.0</td>\n      <td>0.0</td>\n      <td>...</td>\n      <td>20.0</td>\n      <td>22.0</td>\n      <td>22.0</td>\n      <td>22.0</td>\n      <td>27.0</td>\n      <td>22.0</td>\n      <td>22.0</td>\n      <td>23.0</td>\n      <td>23.0</td>\n      <td>23.0</td>\n    </tr>\n    <tr>\n      <th>4</th>\n      <td>14.37</td>\n      <td>0.21</td>\n      <td>0.00</td>\n      <td>0.07</td>\n      <td>0.07</td>\n      <td>0.0</td>\n      <td>0.0</td>\n      <td>0.0</td>\n      <td>0.0</td>\n      <td>0.0</td>\n      <td>...</td>\n      <td>20.0</td>\n      <td>21.0</td>\n      <td>22.0</td>\n      <td>21.0</td>\n      <td>27.0</td>\n      <td>22.0</td>\n      <td>22.0</td>\n      <td>23.0</td>\n      <td>23.0</td>\n      <td>23.0</td>\n    </tr>\n    <tr>\n      <th>...</th>\n      <td>...</td>\n      <td>...</td>\n      <td>...</td>\n      <td>...</td>\n      <td>...</td>\n      <td>...</td>\n      <td>...</td>\n      <td>...</td>\n      <td>...</td>\n      <td>...</td>\n      <td>...</td>\n      <td>...</td>\n      <td>...</td>\n      <td>...</td>\n      <td>...</td>\n      <td>...</td>\n      <td>...</td>\n      <td>...</td>\n      <td>...</td>\n      <td>...</td>\n      <td>...</td>\n    </tr>\n    <tr>\n      <th>1435</th>\n      <td>14.69</td>\n      <td>0.27</td>\n      <td>0.03</td>\n      <td>0.09</td>\n      <td>0.07</td>\n      <td>0.0</td>\n      <td>0.0</td>\n      <td>0.0</td>\n      <td>0.0</td>\n      <td>0.0</td>\n      <td>...</td>\n      <td>21.0</td>\n      <td>21.0</td>\n      <td>21.0</td>\n      <td>20.0</td>\n      <td>27.0</td>\n      <td>20.0</td>\n      <td>19.0</td>\n      <td>21.0</td>\n      <td>21.0</td>\n      <td>23.0</td>\n    </tr>\n    <tr>\n      <th>1436</th>\n      <td>14.76</td>\n      <td>0.19</td>\n      <td>0.51</td>\n      <td>0.07</td>\n      <td>0.07</td>\n      <td>0.0</td>\n      <td>0.0</td>\n      <td>0.0</td>\n      <td>0.0</td>\n      <td>0.0</td>\n      <td>...</td>\n      <td>21.0</td>\n      <td>21.0</td>\n      <td>21.0</td>\n      <td>21.0</td>\n      <td>27.0</td>\n      <td>20.0</td>\n      <td>19.0</td>\n      <td>21.0</td>\n      <td>21.0</td>\n      <td>23.0</td>\n    </tr>\n    <tr>\n      <th>1437</th>\n      <td>14.76</td>\n      <td>0.24</td>\n      <td>0.93</td>\n      <td>0.09</td>\n      <td>0.09</td>\n      <td>0.0</td>\n      <td>0.0</td>\n      <td>0.0</td>\n      <td>0.0</td>\n      <td>0.0</td>\n      <td>...</td>\n      <td>21.0</td>\n      <td>21.0</td>\n      <td>21.0</td>\n      <td>21.0</td>\n      <td>27.0</td>\n      <td>20.0</td>\n      <td>20.0</td>\n      <td>21.0</td>\n      <td>21.0</td>\n      <td>23.0</td>\n    </tr>\n    <tr>\n      <th>1438</th>\n      <td>14.76</td>\n      <td>0.21</td>\n      <td>0.85</td>\n      <td>0.07</td>\n      <td>0.07</td>\n      <td>0.0</td>\n      <td>0.0</td>\n      <td>0.0</td>\n      <td>0.0</td>\n      <td>0.0</td>\n      <td>...</td>\n      <td>21.0</td>\n      <td>21.0</td>\n      <td>21.0</td>\n      <td>21.0</td>\n      <td>27.0</td>\n      <td>20.0</td>\n      <td>20.0</td>\n      <td>21.0</td>\n      <td>21.0</td>\n      <td>23.0</td>\n    </tr>\n    <tr>\n      <th>1439</th>\n      <td>14.76</td>\n      <td>0.19</td>\n      <td>0.43</td>\n      <td>0.07</td>\n      <td>0.09</td>\n      <td>0.0</td>\n      <td>0.0</td>\n      <td>0.0</td>\n      <td>0.0</td>\n      <td>0.0</td>\n      <td>...</td>\n      <td>21.0</td>\n      <td>21.0</td>\n      <td>21.0</td>\n      <td>21.0</td>\n      <td>27.0</td>\n      <td>20.0</td>\n      <td>20.0</td>\n      <td>21.0</td>\n      <td>21.0</td>\n      <td>23.0</td>\n    </tr>\n  </tbody>\n</table>\n<p>1440 rows × 49 columns</p>\n</div>"
     },
     "execution_count": 5,
     "metadata": {},
     "output_type": "execute_result"
    }
   ],
   "source": [
    "columns_to_delete = ['RKPT,b','Sst0x,b','Sst1x,b','Ipt0,A', 'Mag0F', 'Mag10', 'Mag11', 'Mag12', 'Mag13',\n",
    "                   'Mag14','Mag15','Mag16','Isp1,A','Isp2,A','Isp3,A','Isp4,A','Isp5,A','Isp6,A','Isp7,A',\n",
    "                   'Isp8,A','Mag07','Mag08','Mag09','Mag0A','Mag0B','Mag0C','Mag0D','Mag0E','Mag03','Mag04',\n",
    "                   'Mag05','Mag06','TDS11,C','TDS12,C','TDS14,C','TDS15,C','TDS17,C','TDS18,C','TDS20,C',\n",
    "                   'TDS21,C','TDS23,C','iTMO,s','iTMD,s','U-chCAN', 'SSoTR,b','STDS12,b','STDS34,b','res0',\n",
    "                   'U-MAG,o','U-KPT1,o','U-KPT2,o','U-InfGBV','U-GBV,o','U-InfNAP','TmUpr,b','RKwit,b','Rmorz,b',\n",
    "                   'IntK_TM', 'RPrd1,b','RPrm1,b','RPrd2,b','RPrm2,b','FPrd1,V','RPrd1,V','FPrd2,V','RPrd2,V','SPrm1,V',\n",
    "                   'SPrm2,V','VP,d','ShKom,d','Kmnd,d','God,h','Mes,h','Den,h','Chas,h', 'Min,h', 'Sec']\n",
    "cleared_data = data.copy()\n",
    "cleared_data.drop(data.columns[[0]], axis=1, inplace=True)\n",
    "for column in columns_to_delete:\n",
    "    cleared_data.drop(columns=[column], axis= 1, inplace=True)\n",
    "cleared_data"
   ],
   "metadata": {
    "collapsed": false
   }
  },
  {
   "cell_type": "markdown",
   "source": [
    "### заполним NaN предыдущими значениями"
   ],
   "metadata": {
    "collapsed": false
   }
  },
  {
   "cell_type": "code",
   "execution_count": 6,
   "outputs": [
    {
     "data": {
      "text/plain": "      Ubs,V  Ibs,A  Isun,A  Ipt1,A  Ipt2,A  Ipt3,A  Ipt4,A  Ipt5,A  Ipt6,A  \\\n0     14.37   0.27    0.00    0.07    0.07     0.0     0.0     0.0     0.0   \n1     14.37   0.21    0.00    0.07    0.07     0.0     0.0     0.0     0.0   \n2     14.37   0.21    0.00    0.04    0.07     0.0     0.0     0.0     0.0   \n3     14.37   0.24    0.00    0.07    0.09     0.0     0.0     0.0     0.0   \n4     14.37   0.21    0.00    0.07    0.07     0.0     0.0     0.0     0.0   \n...     ...    ...     ...     ...     ...     ...     ...     ...     ...   \n1435  14.69   0.27    0.03    0.09    0.07     0.0     0.0     0.0     0.0   \n1436  14.76   0.19    0.51    0.07    0.07     0.0     0.0     0.0     0.0   \n1437  14.76   0.24    0.93    0.09    0.09     0.0     0.0     0.0     0.0   \n1438  14.76   0.21    0.85    0.07    0.07     0.0     0.0     0.0     0.0   \n1439  14.76   0.19    0.43    0.07    0.09     0.0     0.0     0.0     0.0   \n\n      Ipt7,A  ...  TDS6,C  TDS7,C  TDS8,C  TDS9,C  TKpt,C  TGbv,C  TNap,C  \\\n0        0.0  ...    20.0    22.0    22.0    22.0    27.0    22.0    22.0   \n1        0.0  ...    20.0    22.0    22.0    22.0    27.0    22.0    22.0   \n2        0.0  ...    20.0    22.0    22.0    22.0    27.0    22.0    22.0   \n3        0.0  ...    20.0    22.0    22.0    22.0    27.0    22.0    22.0   \n4        0.0  ...    20.0    21.0    22.0    21.0    27.0    22.0    22.0   \n...      ...  ...     ...     ...     ...     ...     ...     ...     ...   \n1435     0.0  ...    21.0    21.0    21.0    20.0    27.0    20.0    19.0   \n1436     0.0  ...    21.0    21.0    21.0    21.0    27.0    20.0    19.0   \n1437     0.0  ...    21.0    21.0    21.0    21.0    27.0    20.0    20.0   \n1438     0.0  ...    21.0    21.0    21.0    21.0    27.0    20.0    20.0   \n1439     0.0  ...    21.0    21.0    21.0    21.0    27.0    20.0    20.0   \n\n      TPrd2,C  TPrd1,C  TDS24,C  \n0        23.0     23.0     23.0  \n1        23.0     23.0     23.0  \n2        23.0     23.0     23.0  \n3        23.0     23.0     23.0  \n4        23.0     23.0     23.0  \n...       ...      ...      ...  \n1435     21.0     21.0     23.0  \n1436     21.0     21.0     23.0  \n1437     21.0     21.0     23.0  \n1438     21.0     21.0     23.0  \n1439     21.0     21.0     23.0  \n\n[1440 rows x 49 columns]",
      "text/html": "<div>\n<style scoped>\n    .dataframe tbody tr th:only-of-type {\n        vertical-align: middle;\n    }\n\n    .dataframe tbody tr th {\n        vertical-align: top;\n    }\n\n    .dataframe thead th {\n        text-align: right;\n    }\n</style>\n<table border=\"1\" class=\"dataframe\">\n  <thead>\n    <tr style=\"text-align: right;\">\n      <th></th>\n      <th>Ubs,V</th>\n      <th>Ibs,A</th>\n      <th>Isun,A</th>\n      <th>Ipt1,A</th>\n      <th>Ipt2,A</th>\n      <th>Ipt3,A</th>\n      <th>Ipt4,A</th>\n      <th>Ipt5,A</th>\n      <th>Ipt6,A</th>\n      <th>Ipt7,A</th>\n      <th>...</th>\n      <th>TDS6,C</th>\n      <th>TDS7,C</th>\n      <th>TDS8,C</th>\n      <th>TDS9,C</th>\n      <th>TKpt,C</th>\n      <th>TGbv,C</th>\n      <th>TNap,C</th>\n      <th>TPrd2,C</th>\n      <th>TPrd1,C</th>\n      <th>TDS24,C</th>\n    </tr>\n  </thead>\n  <tbody>\n    <tr>\n      <th>0</th>\n      <td>14.37</td>\n      <td>0.27</td>\n      <td>0.00</td>\n      <td>0.07</td>\n      <td>0.07</td>\n      <td>0.0</td>\n      <td>0.0</td>\n      <td>0.0</td>\n      <td>0.0</td>\n      <td>0.0</td>\n      <td>...</td>\n      <td>20.0</td>\n      <td>22.0</td>\n      <td>22.0</td>\n      <td>22.0</td>\n      <td>27.0</td>\n      <td>22.0</td>\n      <td>22.0</td>\n      <td>23.0</td>\n      <td>23.0</td>\n      <td>23.0</td>\n    </tr>\n    <tr>\n      <th>1</th>\n      <td>14.37</td>\n      <td>0.21</td>\n      <td>0.00</td>\n      <td>0.07</td>\n      <td>0.07</td>\n      <td>0.0</td>\n      <td>0.0</td>\n      <td>0.0</td>\n      <td>0.0</td>\n      <td>0.0</td>\n      <td>...</td>\n      <td>20.0</td>\n      <td>22.0</td>\n      <td>22.0</td>\n      <td>22.0</td>\n      <td>27.0</td>\n      <td>22.0</td>\n      <td>22.0</td>\n      <td>23.0</td>\n      <td>23.0</td>\n      <td>23.0</td>\n    </tr>\n    <tr>\n      <th>2</th>\n      <td>14.37</td>\n      <td>0.21</td>\n      <td>0.00</td>\n      <td>0.04</td>\n      <td>0.07</td>\n      <td>0.0</td>\n      <td>0.0</td>\n      <td>0.0</td>\n      <td>0.0</td>\n      <td>0.0</td>\n      <td>...</td>\n      <td>20.0</td>\n      <td>22.0</td>\n      <td>22.0</td>\n      <td>22.0</td>\n      <td>27.0</td>\n      <td>22.0</td>\n      <td>22.0</td>\n      <td>23.0</td>\n      <td>23.0</td>\n      <td>23.0</td>\n    </tr>\n    <tr>\n      <th>3</th>\n      <td>14.37</td>\n      <td>0.24</td>\n      <td>0.00</td>\n      <td>0.07</td>\n      <td>0.09</td>\n      <td>0.0</td>\n      <td>0.0</td>\n      <td>0.0</td>\n      <td>0.0</td>\n      <td>0.0</td>\n      <td>...</td>\n      <td>20.0</td>\n      <td>22.0</td>\n      <td>22.0</td>\n      <td>22.0</td>\n      <td>27.0</td>\n      <td>22.0</td>\n      <td>22.0</td>\n      <td>23.0</td>\n      <td>23.0</td>\n      <td>23.0</td>\n    </tr>\n    <tr>\n      <th>4</th>\n      <td>14.37</td>\n      <td>0.21</td>\n      <td>0.00</td>\n      <td>0.07</td>\n      <td>0.07</td>\n      <td>0.0</td>\n      <td>0.0</td>\n      <td>0.0</td>\n      <td>0.0</td>\n      <td>0.0</td>\n      <td>...</td>\n      <td>20.0</td>\n      <td>21.0</td>\n      <td>22.0</td>\n      <td>21.0</td>\n      <td>27.0</td>\n      <td>22.0</td>\n      <td>22.0</td>\n      <td>23.0</td>\n      <td>23.0</td>\n      <td>23.0</td>\n    </tr>\n    <tr>\n      <th>...</th>\n      <td>...</td>\n      <td>...</td>\n      <td>...</td>\n      <td>...</td>\n      <td>...</td>\n      <td>...</td>\n      <td>...</td>\n      <td>...</td>\n      <td>...</td>\n      <td>...</td>\n      <td>...</td>\n      <td>...</td>\n      <td>...</td>\n      <td>...</td>\n      <td>...</td>\n      <td>...</td>\n      <td>...</td>\n      <td>...</td>\n      <td>...</td>\n      <td>...</td>\n      <td>...</td>\n    </tr>\n    <tr>\n      <th>1435</th>\n      <td>14.69</td>\n      <td>0.27</td>\n      <td>0.03</td>\n      <td>0.09</td>\n      <td>0.07</td>\n      <td>0.0</td>\n      <td>0.0</td>\n      <td>0.0</td>\n      <td>0.0</td>\n      <td>0.0</td>\n      <td>...</td>\n      <td>21.0</td>\n      <td>21.0</td>\n      <td>21.0</td>\n      <td>20.0</td>\n      <td>27.0</td>\n      <td>20.0</td>\n      <td>19.0</td>\n      <td>21.0</td>\n      <td>21.0</td>\n      <td>23.0</td>\n    </tr>\n    <tr>\n      <th>1436</th>\n      <td>14.76</td>\n      <td>0.19</td>\n      <td>0.51</td>\n      <td>0.07</td>\n      <td>0.07</td>\n      <td>0.0</td>\n      <td>0.0</td>\n      <td>0.0</td>\n      <td>0.0</td>\n      <td>0.0</td>\n      <td>...</td>\n      <td>21.0</td>\n      <td>21.0</td>\n      <td>21.0</td>\n      <td>21.0</td>\n      <td>27.0</td>\n      <td>20.0</td>\n      <td>19.0</td>\n      <td>21.0</td>\n      <td>21.0</td>\n      <td>23.0</td>\n    </tr>\n    <tr>\n      <th>1437</th>\n      <td>14.76</td>\n      <td>0.24</td>\n      <td>0.93</td>\n      <td>0.09</td>\n      <td>0.09</td>\n      <td>0.0</td>\n      <td>0.0</td>\n      <td>0.0</td>\n      <td>0.0</td>\n      <td>0.0</td>\n      <td>...</td>\n      <td>21.0</td>\n      <td>21.0</td>\n      <td>21.0</td>\n      <td>21.0</td>\n      <td>27.0</td>\n      <td>20.0</td>\n      <td>20.0</td>\n      <td>21.0</td>\n      <td>21.0</td>\n      <td>23.0</td>\n    </tr>\n    <tr>\n      <th>1438</th>\n      <td>14.76</td>\n      <td>0.21</td>\n      <td>0.85</td>\n      <td>0.07</td>\n      <td>0.07</td>\n      <td>0.0</td>\n      <td>0.0</td>\n      <td>0.0</td>\n      <td>0.0</td>\n      <td>0.0</td>\n      <td>...</td>\n      <td>21.0</td>\n      <td>21.0</td>\n      <td>21.0</td>\n      <td>21.0</td>\n      <td>27.0</td>\n      <td>20.0</td>\n      <td>20.0</td>\n      <td>21.0</td>\n      <td>21.0</td>\n      <td>23.0</td>\n    </tr>\n    <tr>\n      <th>1439</th>\n      <td>14.76</td>\n      <td>0.19</td>\n      <td>0.43</td>\n      <td>0.07</td>\n      <td>0.09</td>\n      <td>0.0</td>\n      <td>0.0</td>\n      <td>0.0</td>\n      <td>0.0</td>\n      <td>0.0</td>\n      <td>...</td>\n      <td>21.0</td>\n      <td>21.0</td>\n      <td>21.0</td>\n      <td>21.0</td>\n      <td>27.0</td>\n      <td>20.0</td>\n      <td>20.0</td>\n      <td>21.0</td>\n      <td>21.0</td>\n      <td>23.0</td>\n    </tr>\n  </tbody>\n</table>\n<p>1440 rows × 49 columns</p>\n</div>"
     },
     "execution_count": 6,
     "metadata": {},
     "output_type": "execute_result"
    }
   ],
   "source": [
    "data_filled = cleared_data.copy()\n",
    "data_filled = data_filled.fillna(method='ffill')\n",
    "data_filled"
   ],
   "metadata": {
    "collapsed": false
   }
  },
  {
   "cell_type": "markdown",
   "source": [],
   "metadata": {
    "collapsed": false
   }
  },
  {
   "cell_type": "markdown",
   "source": [
    "### преобразуем данные (min-max масштабирование по варианту)"
   ],
   "metadata": {
    "collapsed": false
   }
  },
  {
   "cell_type": "code",
   "execution_count": 7,
   "outputs": [
    {
     "data": {
      "text/plain": "            0         1         2         3         4    5    6    7    8   \\\n0     0.900952  0.034934  0.000000  0.021277  0.014374  0.0  0.0  0.0  0.0   \n1     0.900952  0.021834  0.000000  0.021277  0.014374  0.0  0.0  0.0  0.0   \n2     0.900952  0.021834  0.000000  0.012158  0.014374  0.0  0.0  0.0  0.0   \n3     0.900952  0.028384  0.000000  0.021277  0.018480  0.0  0.0  0.0  0.0   \n4     0.900952  0.021834  0.000000  0.021277  0.014374  0.0  0.0  0.0  0.0   \n...        ...       ...       ...       ...       ...  ...  ...  ...  ...   \n1435  0.961905  0.034934  0.005629  0.027356  0.014374  0.0  0.0  0.0  0.0   \n1436  0.975238  0.017467  0.095685  0.021277  0.014374  0.0  0.0  0.0  0.0   \n1437  0.975238  0.028384  0.174484  0.027356  0.018480  0.0  0.0  0.0  0.0   \n1438  0.975238  0.021834  0.159475  0.021277  0.014374  0.0  0.0  0.0  0.0   \n1439  0.975238  0.017467  0.080675  0.021277  0.018480  0.0  0.0  0.0  0.0   \n\n       9   ...        39        40        41        42        43        44  \\\n0     0.0  ...  0.637555  0.735294  0.666667  0.666667  0.704545  0.993377   \n1     0.0  ...  0.637555  0.735294  0.666667  0.666667  0.704545  0.993377   \n2     0.0  ...  0.637555  0.735294  0.666667  0.666667  0.704545  0.993377   \n3     0.0  ...  0.637555  0.735294  0.666667  0.666667  0.704545  0.993377   \n4     0.0  ...  0.637555  0.730392  0.666667  0.662222  0.704545  0.993377   \n...   ...  ...       ...       ...       ...       ...       ...       ...   \n1435  0.0  ...  0.641921  0.730392  0.662222  0.657778  0.704545  0.980132   \n1436  0.0  ...  0.641921  0.730392  0.662222  0.662222  0.704545  0.980132   \n1437  0.0  ...  0.641921  0.730392  0.662222  0.662222  0.704545  0.980132   \n1438  0.0  ...  0.641921  0.730392  0.662222  0.662222  0.704545  0.980132   \n1439  0.0  ...  0.641921  0.730392  0.662222  0.662222  0.704545  0.980132   \n\n            45        46        47        48  \n0     0.655022  0.740196  0.579399  0.538922  \n1     0.655022  0.740196  0.579399  0.538922  \n2     0.655022  0.740196  0.579399  0.538922  \n3     0.655022  0.740196  0.579399  0.538922  \n4     0.655022  0.740196  0.579399  0.538922  \n...        ...       ...       ...       ...  \n1435  0.641921  0.730392  0.570815  0.538922  \n1436  0.641921  0.730392  0.570815  0.538922  \n1437  0.646288  0.730392  0.570815  0.538922  \n1438  0.646288  0.730392  0.570815  0.538922  \n1439  0.646288  0.730392  0.570815  0.538922  \n\n[1440 rows x 49 columns]",
      "text/html": "<div>\n<style scoped>\n    .dataframe tbody tr th:only-of-type {\n        vertical-align: middle;\n    }\n\n    .dataframe tbody tr th {\n        vertical-align: top;\n    }\n\n    .dataframe thead th {\n        text-align: right;\n    }\n</style>\n<table border=\"1\" class=\"dataframe\">\n  <thead>\n    <tr style=\"text-align: right;\">\n      <th></th>\n      <th>0</th>\n      <th>1</th>\n      <th>2</th>\n      <th>3</th>\n      <th>4</th>\n      <th>5</th>\n      <th>6</th>\n      <th>7</th>\n      <th>8</th>\n      <th>9</th>\n      <th>...</th>\n      <th>39</th>\n      <th>40</th>\n      <th>41</th>\n      <th>42</th>\n      <th>43</th>\n      <th>44</th>\n      <th>45</th>\n      <th>46</th>\n      <th>47</th>\n      <th>48</th>\n    </tr>\n  </thead>\n  <tbody>\n    <tr>\n      <th>0</th>\n      <td>0.900952</td>\n      <td>0.034934</td>\n      <td>0.000000</td>\n      <td>0.021277</td>\n      <td>0.014374</td>\n      <td>0.0</td>\n      <td>0.0</td>\n      <td>0.0</td>\n      <td>0.0</td>\n      <td>0.0</td>\n      <td>...</td>\n      <td>0.637555</td>\n      <td>0.735294</td>\n      <td>0.666667</td>\n      <td>0.666667</td>\n      <td>0.704545</td>\n      <td>0.993377</td>\n      <td>0.655022</td>\n      <td>0.740196</td>\n      <td>0.579399</td>\n      <td>0.538922</td>\n    </tr>\n    <tr>\n      <th>1</th>\n      <td>0.900952</td>\n      <td>0.021834</td>\n      <td>0.000000</td>\n      <td>0.021277</td>\n      <td>0.014374</td>\n      <td>0.0</td>\n      <td>0.0</td>\n      <td>0.0</td>\n      <td>0.0</td>\n      <td>0.0</td>\n      <td>...</td>\n      <td>0.637555</td>\n      <td>0.735294</td>\n      <td>0.666667</td>\n      <td>0.666667</td>\n      <td>0.704545</td>\n      <td>0.993377</td>\n      <td>0.655022</td>\n      <td>0.740196</td>\n      <td>0.579399</td>\n      <td>0.538922</td>\n    </tr>\n    <tr>\n      <th>2</th>\n      <td>0.900952</td>\n      <td>0.021834</td>\n      <td>0.000000</td>\n      <td>0.012158</td>\n      <td>0.014374</td>\n      <td>0.0</td>\n      <td>0.0</td>\n      <td>0.0</td>\n      <td>0.0</td>\n      <td>0.0</td>\n      <td>...</td>\n      <td>0.637555</td>\n      <td>0.735294</td>\n      <td>0.666667</td>\n      <td>0.666667</td>\n      <td>0.704545</td>\n      <td>0.993377</td>\n      <td>0.655022</td>\n      <td>0.740196</td>\n      <td>0.579399</td>\n      <td>0.538922</td>\n    </tr>\n    <tr>\n      <th>3</th>\n      <td>0.900952</td>\n      <td>0.028384</td>\n      <td>0.000000</td>\n      <td>0.021277</td>\n      <td>0.018480</td>\n      <td>0.0</td>\n      <td>0.0</td>\n      <td>0.0</td>\n      <td>0.0</td>\n      <td>0.0</td>\n      <td>...</td>\n      <td>0.637555</td>\n      <td>0.735294</td>\n      <td>0.666667</td>\n      <td>0.666667</td>\n      <td>0.704545</td>\n      <td>0.993377</td>\n      <td>0.655022</td>\n      <td>0.740196</td>\n      <td>0.579399</td>\n      <td>0.538922</td>\n    </tr>\n    <tr>\n      <th>4</th>\n      <td>0.900952</td>\n      <td>0.021834</td>\n      <td>0.000000</td>\n      <td>0.021277</td>\n      <td>0.014374</td>\n      <td>0.0</td>\n      <td>0.0</td>\n      <td>0.0</td>\n      <td>0.0</td>\n      <td>0.0</td>\n      <td>...</td>\n      <td>0.637555</td>\n      <td>0.730392</td>\n      <td>0.666667</td>\n      <td>0.662222</td>\n      <td>0.704545</td>\n      <td>0.993377</td>\n      <td>0.655022</td>\n      <td>0.740196</td>\n      <td>0.579399</td>\n      <td>0.538922</td>\n    </tr>\n    <tr>\n      <th>...</th>\n      <td>...</td>\n      <td>...</td>\n      <td>...</td>\n      <td>...</td>\n      <td>...</td>\n      <td>...</td>\n      <td>...</td>\n      <td>...</td>\n      <td>...</td>\n      <td>...</td>\n      <td>...</td>\n      <td>...</td>\n      <td>...</td>\n      <td>...</td>\n      <td>...</td>\n      <td>...</td>\n      <td>...</td>\n      <td>...</td>\n      <td>...</td>\n      <td>...</td>\n      <td>...</td>\n    </tr>\n    <tr>\n      <th>1435</th>\n      <td>0.961905</td>\n      <td>0.034934</td>\n      <td>0.005629</td>\n      <td>0.027356</td>\n      <td>0.014374</td>\n      <td>0.0</td>\n      <td>0.0</td>\n      <td>0.0</td>\n      <td>0.0</td>\n      <td>0.0</td>\n      <td>...</td>\n      <td>0.641921</td>\n      <td>0.730392</td>\n      <td>0.662222</td>\n      <td>0.657778</td>\n      <td>0.704545</td>\n      <td>0.980132</td>\n      <td>0.641921</td>\n      <td>0.730392</td>\n      <td>0.570815</td>\n      <td>0.538922</td>\n    </tr>\n    <tr>\n      <th>1436</th>\n      <td>0.975238</td>\n      <td>0.017467</td>\n      <td>0.095685</td>\n      <td>0.021277</td>\n      <td>0.014374</td>\n      <td>0.0</td>\n      <td>0.0</td>\n      <td>0.0</td>\n      <td>0.0</td>\n      <td>0.0</td>\n      <td>...</td>\n      <td>0.641921</td>\n      <td>0.730392</td>\n      <td>0.662222</td>\n      <td>0.662222</td>\n      <td>0.704545</td>\n      <td>0.980132</td>\n      <td>0.641921</td>\n      <td>0.730392</td>\n      <td>0.570815</td>\n      <td>0.538922</td>\n    </tr>\n    <tr>\n      <th>1437</th>\n      <td>0.975238</td>\n      <td>0.028384</td>\n      <td>0.174484</td>\n      <td>0.027356</td>\n      <td>0.018480</td>\n      <td>0.0</td>\n      <td>0.0</td>\n      <td>0.0</td>\n      <td>0.0</td>\n      <td>0.0</td>\n      <td>...</td>\n      <td>0.641921</td>\n      <td>0.730392</td>\n      <td>0.662222</td>\n      <td>0.662222</td>\n      <td>0.704545</td>\n      <td>0.980132</td>\n      <td>0.646288</td>\n      <td>0.730392</td>\n      <td>0.570815</td>\n      <td>0.538922</td>\n    </tr>\n    <tr>\n      <th>1438</th>\n      <td>0.975238</td>\n      <td>0.021834</td>\n      <td>0.159475</td>\n      <td>0.021277</td>\n      <td>0.014374</td>\n      <td>0.0</td>\n      <td>0.0</td>\n      <td>0.0</td>\n      <td>0.0</td>\n      <td>0.0</td>\n      <td>...</td>\n      <td>0.641921</td>\n      <td>0.730392</td>\n      <td>0.662222</td>\n      <td>0.662222</td>\n      <td>0.704545</td>\n      <td>0.980132</td>\n      <td>0.646288</td>\n      <td>0.730392</td>\n      <td>0.570815</td>\n      <td>0.538922</td>\n    </tr>\n    <tr>\n      <th>1439</th>\n      <td>0.975238</td>\n      <td>0.017467</td>\n      <td>0.080675</td>\n      <td>0.021277</td>\n      <td>0.018480</td>\n      <td>0.0</td>\n      <td>0.0</td>\n      <td>0.0</td>\n      <td>0.0</td>\n      <td>0.0</td>\n      <td>...</td>\n      <td>0.641921</td>\n      <td>0.730392</td>\n      <td>0.662222</td>\n      <td>0.662222</td>\n      <td>0.704545</td>\n      <td>0.980132</td>\n      <td>0.646288</td>\n      <td>0.730392</td>\n      <td>0.570815</td>\n      <td>0.538922</td>\n    </tr>\n  </tbody>\n</table>\n<p>1440 rows × 49 columns</p>\n</div>"
     },
     "execution_count": 7,
     "metadata": {},
     "output_type": "execute_result"
    }
   ],
   "source": [
    "scaler = MinMaxScaler(feature_range=(0, 1))\n",
    "rescaled_data = pd.DataFrame(scaler.fit_transform(data_filled))\n",
    "rescaled_data"
   ],
   "metadata": {
    "collapsed": false
   }
  },
  {
   "cell_type": "markdown",
   "source": [
    "### присоединим столбец классов"
   ],
   "metadata": {
    "collapsed": false
   }
  },
  {
   "cell_type": "code",
   "execution_count": 8,
   "outputs": [
    {
     "data": {
      "text/plain": "      Ubs,V  Ibs,A  Isun,A  Ipt1,A  Ipt2,A  Ipt3,A  Ipt4,A  Ipt5,A  Ipt6,A  \\\n0     14.37   0.27    0.00    0.07    0.07     0.0     0.0     0.0     0.0   \n1     14.37   0.21    0.00    0.07    0.07     0.0     0.0     0.0     0.0   \n2     14.37   0.21    0.00    0.04    0.07     0.0     0.0     0.0     0.0   \n3     14.37   0.24    0.00    0.07    0.09     0.0     0.0     0.0     0.0   \n4     14.37   0.21    0.00    0.07    0.07     0.0     0.0     0.0     0.0   \n...     ...    ...     ...     ...     ...     ...     ...     ...     ...   \n1435  14.69   0.27    0.03    0.09    0.07     0.0     0.0     0.0     0.0   \n1436  14.76   0.19    0.51    0.07    0.07     0.0     0.0     0.0     0.0   \n1437  14.76   0.24    0.93    0.09    0.09     0.0     0.0     0.0     0.0   \n1438  14.76   0.21    0.85    0.07    0.07     0.0     0.0     0.0     0.0   \n1439  14.76   0.19    0.43    0.07    0.09     0.0     0.0     0.0     0.0   \n\n      Ipt7,A  ...  TDS7,C  TDS8,C  TDS9,C  TKpt,C  TGbv,C  TNap,C  TPrd2,C  \\\n0        0.0  ...    22.0    22.0    22.0    27.0    22.0    22.0     23.0   \n1        0.0  ...    22.0    22.0    22.0    27.0    22.0    22.0     23.0   \n2        0.0  ...    22.0    22.0    22.0    27.0    22.0    22.0     23.0   \n3        0.0  ...    22.0    22.0    22.0    27.0    22.0    22.0     23.0   \n4        0.0  ...    21.0    22.0    21.0    27.0    22.0    22.0     23.0   \n...      ...  ...     ...     ...     ...     ...     ...     ...      ...   \n1435     0.0  ...    21.0    21.0    20.0    27.0    20.0    19.0     21.0   \n1436     0.0  ...    21.0    21.0    21.0    27.0    20.0    19.0     21.0   \n1437     0.0  ...    21.0    21.0    21.0    27.0    20.0    20.0     21.0   \n1438     0.0  ...    21.0    21.0    21.0    27.0    20.0    20.0     21.0   \n1439     0.0  ...    21.0    21.0    21.0    27.0    20.0    20.0     21.0   \n\n      TPrd1,C  TDS24,C  Class  \n0        23.0     23.0      0  \n1        23.0     23.0      0  \n2        23.0     23.0      0  \n3        23.0     23.0      0  \n4        23.0     23.0      0  \n...       ...      ...    ...  \n1435     21.0     23.0      0  \n1436     21.0     23.0      0  \n1437     21.0     23.0      0  \n1438     21.0     23.0      0  \n1439     21.0     23.0      0  \n\n[1440 rows x 50 columns]",
      "text/html": "<div>\n<style scoped>\n    .dataframe tbody tr th:only-of-type {\n        vertical-align: middle;\n    }\n\n    .dataframe tbody tr th {\n        vertical-align: top;\n    }\n\n    .dataframe thead th {\n        text-align: right;\n    }\n</style>\n<table border=\"1\" class=\"dataframe\">\n  <thead>\n    <tr style=\"text-align: right;\">\n      <th></th>\n      <th>Ubs,V</th>\n      <th>Ibs,A</th>\n      <th>Isun,A</th>\n      <th>Ipt1,A</th>\n      <th>Ipt2,A</th>\n      <th>Ipt3,A</th>\n      <th>Ipt4,A</th>\n      <th>Ipt5,A</th>\n      <th>Ipt6,A</th>\n      <th>Ipt7,A</th>\n      <th>...</th>\n      <th>TDS7,C</th>\n      <th>TDS8,C</th>\n      <th>TDS9,C</th>\n      <th>TKpt,C</th>\n      <th>TGbv,C</th>\n      <th>TNap,C</th>\n      <th>TPrd2,C</th>\n      <th>TPrd1,C</th>\n      <th>TDS24,C</th>\n      <th>Class</th>\n    </tr>\n  </thead>\n  <tbody>\n    <tr>\n      <th>0</th>\n      <td>14.37</td>\n      <td>0.27</td>\n      <td>0.00</td>\n      <td>0.07</td>\n      <td>0.07</td>\n      <td>0.0</td>\n      <td>0.0</td>\n      <td>0.0</td>\n      <td>0.0</td>\n      <td>0.0</td>\n      <td>...</td>\n      <td>22.0</td>\n      <td>22.0</td>\n      <td>22.0</td>\n      <td>27.0</td>\n      <td>22.0</td>\n      <td>22.0</td>\n      <td>23.0</td>\n      <td>23.0</td>\n      <td>23.0</td>\n      <td>0</td>\n    </tr>\n    <tr>\n      <th>1</th>\n      <td>14.37</td>\n      <td>0.21</td>\n      <td>0.00</td>\n      <td>0.07</td>\n      <td>0.07</td>\n      <td>0.0</td>\n      <td>0.0</td>\n      <td>0.0</td>\n      <td>0.0</td>\n      <td>0.0</td>\n      <td>...</td>\n      <td>22.0</td>\n      <td>22.0</td>\n      <td>22.0</td>\n      <td>27.0</td>\n      <td>22.0</td>\n      <td>22.0</td>\n      <td>23.0</td>\n      <td>23.0</td>\n      <td>23.0</td>\n      <td>0</td>\n    </tr>\n    <tr>\n      <th>2</th>\n      <td>14.37</td>\n      <td>0.21</td>\n      <td>0.00</td>\n      <td>0.04</td>\n      <td>0.07</td>\n      <td>0.0</td>\n      <td>0.0</td>\n      <td>0.0</td>\n      <td>0.0</td>\n      <td>0.0</td>\n      <td>...</td>\n      <td>22.0</td>\n      <td>22.0</td>\n      <td>22.0</td>\n      <td>27.0</td>\n      <td>22.0</td>\n      <td>22.0</td>\n      <td>23.0</td>\n      <td>23.0</td>\n      <td>23.0</td>\n      <td>0</td>\n    </tr>\n    <tr>\n      <th>3</th>\n      <td>14.37</td>\n      <td>0.24</td>\n      <td>0.00</td>\n      <td>0.07</td>\n      <td>0.09</td>\n      <td>0.0</td>\n      <td>0.0</td>\n      <td>0.0</td>\n      <td>0.0</td>\n      <td>0.0</td>\n      <td>...</td>\n      <td>22.0</td>\n      <td>22.0</td>\n      <td>22.0</td>\n      <td>27.0</td>\n      <td>22.0</td>\n      <td>22.0</td>\n      <td>23.0</td>\n      <td>23.0</td>\n      <td>23.0</td>\n      <td>0</td>\n    </tr>\n    <tr>\n      <th>4</th>\n      <td>14.37</td>\n      <td>0.21</td>\n      <td>0.00</td>\n      <td>0.07</td>\n      <td>0.07</td>\n      <td>0.0</td>\n      <td>0.0</td>\n      <td>0.0</td>\n      <td>0.0</td>\n      <td>0.0</td>\n      <td>...</td>\n      <td>21.0</td>\n      <td>22.0</td>\n      <td>21.0</td>\n      <td>27.0</td>\n      <td>22.0</td>\n      <td>22.0</td>\n      <td>23.0</td>\n      <td>23.0</td>\n      <td>23.0</td>\n      <td>0</td>\n    </tr>\n    <tr>\n      <th>...</th>\n      <td>...</td>\n      <td>...</td>\n      <td>...</td>\n      <td>...</td>\n      <td>...</td>\n      <td>...</td>\n      <td>...</td>\n      <td>...</td>\n      <td>...</td>\n      <td>...</td>\n      <td>...</td>\n      <td>...</td>\n      <td>...</td>\n      <td>...</td>\n      <td>...</td>\n      <td>...</td>\n      <td>...</td>\n      <td>...</td>\n      <td>...</td>\n      <td>...</td>\n      <td>...</td>\n    </tr>\n    <tr>\n      <th>1435</th>\n      <td>14.69</td>\n      <td>0.27</td>\n      <td>0.03</td>\n      <td>0.09</td>\n      <td>0.07</td>\n      <td>0.0</td>\n      <td>0.0</td>\n      <td>0.0</td>\n      <td>0.0</td>\n      <td>0.0</td>\n      <td>...</td>\n      <td>21.0</td>\n      <td>21.0</td>\n      <td>20.0</td>\n      <td>27.0</td>\n      <td>20.0</td>\n      <td>19.0</td>\n      <td>21.0</td>\n      <td>21.0</td>\n      <td>23.0</td>\n      <td>0</td>\n    </tr>\n    <tr>\n      <th>1436</th>\n      <td>14.76</td>\n      <td>0.19</td>\n      <td>0.51</td>\n      <td>0.07</td>\n      <td>0.07</td>\n      <td>0.0</td>\n      <td>0.0</td>\n      <td>0.0</td>\n      <td>0.0</td>\n      <td>0.0</td>\n      <td>...</td>\n      <td>21.0</td>\n      <td>21.0</td>\n      <td>21.0</td>\n      <td>27.0</td>\n      <td>20.0</td>\n      <td>19.0</td>\n      <td>21.0</td>\n      <td>21.0</td>\n      <td>23.0</td>\n      <td>0</td>\n    </tr>\n    <tr>\n      <th>1437</th>\n      <td>14.76</td>\n      <td>0.24</td>\n      <td>0.93</td>\n      <td>0.09</td>\n      <td>0.09</td>\n      <td>0.0</td>\n      <td>0.0</td>\n      <td>0.0</td>\n      <td>0.0</td>\n      <td>0.0</td>\n      <td>...</td>\n      <td>21.0</td>\n      <td>21.0</td>\n      <td>21.0</td>\n      <td>27.0</td>\n      <td>20.0</td>\n      <td>20.0</td>\n      <td>21.0</td>\n      <td>21.0</td>\n      <td>23.0</td>\n      <td>0</td>\n    </tr>\n    <tr>\n      <th>1438</th>\n      <td>14.76</td>\n      <td>0.21</td>\n      <td>0.85</td>\n      <td>0.07</td>\n      <td>0.07</td>\n      <td>0.0</td>\n      <td>0.0</td>\n      <td>0.0</td>\n      <td>0.0</td>\n      <td>0.0</td>\n      <td>...</td>\n      <td>21.0</td>\n      <td>21.0</td>\n      <td>21.0</td>\n      <td>27.0</td>\n      <td>20.0</td>\n      <td>20.0</td>\n      <td>21.0</td>\n      <td>21.0</td>\n      <td>23.0</td>\n      <td>0</td>\n    </tr>\n    <tr>\n      <th>1439</th>\n      <td>14.76</td>\n      <td>0.19</td>\n      <td>0.43</td>\n      <td>0.07</td>\n      <td>0.09</td>\n      <td>0.0</td>\n      <td>0.0</td>\n      <td>0.0</td>\n      <td>0.0</td>\n      <td>0.0</td>\n      <td>...</td>\n      <td>21.0</td>\n      <td>21.0</td>\n      <td>21.0</td>\n      <td>27.0</td>\n      <td>20.0</td>\n      <td>20.0</td>\n      <td>21.0</td>\n      <td>21.0</td>\n      <td>23.0</td>\n      <td>0</td>\n    </tr>\n  </tbody>\n</table>\n<p>1440 rows × 50 columns</p>\n</div>"
     },
     "execution_count": 8,
     "metadata": {},
     "output_type": "execute_result"
    }
   ],
   "source": [
    "rescaled_data_with_classes = rescaled_data.copy()\n",
    "data_with_classes = data_filled.copy()\n",
    "\n",
    "rescaled_data_with_classes.insert(loc = rescaled_data_with_classes.shape[1], column = 'Class', value = classes)\n",
    "data_with_classes.insert(loc = data_with_classes.shape[1], column = 'Class', value = classes)\n",
    "data_with_classes"
   ],
   "metadata": {
    "collapsed": false
   }
  },
  {
   "cell_type": "code",
   "execution_count": 9,
   "outputs": [
    {
     "name": "stdout",
     "output_type": "stream",
     "text": [
      "<class 'pandas.core.frame.DataFrame'>\n",
      "RangeIndex: 1440 entries, 0 to 1439\n",
      "Data columns (total 50 columns):\n",
      " #   Column   Non-Null Count  Dtype  \n",
      "---  ------   --------------  -----  \n",
      " 0   Ubs,V    1440 non-null   float64\n",
      " 1   Ibs,A    1440 non-null   float64\n",
      " 2   Isun,A   1440 non-null   float64\n",
      " 3   Ipt1,A   1440 non-null   float64\n",
      " 4   Ipt2,A   1440 non-null   float64\n",
      " 5   Ipt3,A   1440 non-null   float64\n",
      " 6   Ipt4,A   1440 non-null   float64\n",
      " 7   Ipt5,A   1440 non-null   float64\n",
      " 8   Ipt6,A   1440 non-null   float64\n",
      " 9   Ipt7,A   1440 non-null   float64\n",
      " 10  Ipt10,A  1440 non-null   float64\n",
      " 11  Ipt11,A  1440 non-null   float64\n",
      " 12  Ipt12,A  1440 non-null   float64\n",
      " 13  Ipt13,A  1440 non-null   float64\n",
      " 14  Ipt14,A  1440 non-null   float64\n",
      " 15  Ipt15,A  1440 non-null   float64\n",
      " 16  Ipt16,A  1440 non-null   float64\n",
      " 17  Ipt17,A  1440 non-null   float64\n",
      " 18  TR1,C    1440 non-null   float64\n",
      " 19  TR2,C    1440 non-null   float64\n",
      " 20  TR3,C    1440 non-null   float64\n",
      " 21  TR4,C    1440 non-null   float64\n",
      " 22  TR5,C    1440 non-null   float64\n",
      " 23  TR6,C    1440 non-null   float64\n",
      " 24  TR7,C    1440 non-null   float64\n",
      " 25  TR8,C    1440 non-null   float64\n",
      " 26  TR9,C    1440 non-null   float64\n",
      " 27  TR10,C   1440 non-null   float64\n",
      " 28  TR11,C   1440 non-null   float64\n",
      " 29  TR12,C   1440 non-null   float64\n",
      " 30  TR13,C   1440 non-null   float64\n",
      " 31  TR14,C   1440 non-null   float64\n",
      " 32  TR15,C   1440 non-null   float64\n",
      " 33  TR16,C   1440 non-null   float64\n",
      " 34  TDS1,C   1440 non-null   float64\n",
      " 35  TDS2,C   1440 non-null   float64\n",
      " 36  TDS3,C   1440 non-null   float64\n",
      " 37  TDS4,C   1440 non-null   float64\n",
      " 38  TDS5,C   1440 non-null   float64\n",
      " 39  TDS6,C   1440 non-null   float64\n",
      " 40  TDS7,C   1440 non-null   float64\n",
      " 41  TDS8,C   1440 non-null   float64\n",
      " 42  TDS9,C   1440 non-null   float64\n",
      " 43  TKpt,C   1440 non-null   float64\n",
      " 44  TGbv,C   1440 non-null   float64\n",
      " 45  TNap,C   1440 non-null   float64\n",
      " 46  TPrd2,C  1440 non-null   float64\n",
      " 47  TPrd1,C  1440 non-null   float64\n",
      " 48  TDS24,C  1440 non-null   float64\n",
      " 49  Class    1440 non-null   int64  \n",
      "dtypes: float64(49), int64(1)\n",
      "memory usage: 562.6 KB\n"
     ]
    }
   ],
   "source": [
    "data_with_classes.info()"
   ],
   "metadata": {
    "collapsed": false
   }
  },
  {
   "cell_type": "code",
   "execution_count": 10,
   "outputs": [
    {
     "data": {
      "text/plain": "0    1109\n1     210\n2     121\nName: Class, dtype: int64"
     },
     "execution_count": 10,
     "metadata": {},
     "output_type": "execute_result"
    }
   ],
   "source": [
    "class_counts = data_with_classes['Class'].value_counts()\n",
    "class_counts"
   ],
   "metadata": {
    "collapsed": false
   }
  },
  {
   "cell_type": "markdown",
   "source": [
    "### разделим набор на обучающую и тестовую выборки"
   ],
   "metadata": {
    "collapsed": false
   }
  },
  {
   "cell_type": "code",
   "execution_count": 11,
   "outputs": [],
   "source": [
    "test_size = 0.2\n",
    "seed = 7\n",
    "\n",
    "# ИСХОДНЫЙ\n",
    "data_X = data_with_classes.iloc[:, :-1]\n",
    "data_Y = data_with_classes['Class']\n",
    "\n",
    "data_X_train, data_X_test, data_Y_train, data_Y_test = train_test_split(data_X, data_Y, test_size=test_size, random_state=seed)\n",
    "\n",
    "\n",
    "# ПРЕОБРАЗОВАННЫЙ\n",
    "rescaled_data_X = rescaled_data_with_classes.iloc[:, :-1]\n",
    "rescaled_data_Y = rescaled_data_with_classes['Class']\n",
    "\n",
    "rescaled_data_X_train, rescaled_data_X_test, rescaled_data_Y_train, rescaled_data_Y_test = train_test_split(rescaled_data_X, rescaled_data_Y, test_size=test_size, random_state=seed)\n",
    "\n",
    "\n",
    "datasets = [{'X_train': data_X_train, 'X_test': data_X_test, 'Y_train': data_Y_train, 'Y_test': data_Y_test, 'name': 'original_data'},\n",
    "            {'X_train': rescaled_data_X_train, 'X_test': rescaled_data_X_test, 'Y_train': rescaled_data_Y_train, 'Y_test': rescaled_data_Y_test, 'name': 'original_rescaled_data'}]\n"
   ],
   "metadata": {
    "collapsed": false
   }
  },
  {
   "cell_type": "markdown",
   "source": [
    "### определим гиперпараметры для GRU"
   ],
   "metadata": {
    "collapsed": false
   }
  },
  {
   "cell_type": "code",
   "execution_count": 14,
   "outputs": [
    {
     "name": "stdout",
     "output_type": "stream",
     "text": [
      "original_data:\n",
      "Epoch 1/15\n",
      "35/35 [==============================] - 14s 140ms/step - loss: 0.6753 - accuracy: 0.7625 - val_loss: 0.3587 - val_accuracy: 0.9138\n",
      "Epoch 2/15\n",
      "35/35 [==============================] - 3s 94ms/step - loss: 0.4657 - accuracy: 0.8571 - val_loss: 0.3407 - val_accuracy: 0.9224\n",
      "Epoch 3/15\n",
      "35/35 [==============================] - 3s 97ms/step - loss: 0.4384 - accuracy: 0.8707 - val_loss: 0.3616 - val_accuracy: 0.8879\n",
      "Epoch 4/15\n",
      "35/35 [==============================] - 3s 96ms/step - loss: 0.4209 - accuracy: 0.8774 - val_loss: 0.2951 - val_accuracy: 0.9224\n",
      "Epoch 5/15\n",
      "35/35 [==============================] - 3s 96ms/step - loss: 0.3958 - accuracy: 0.8890 - val_loss: 0.2845 - val_accuracy: 0.9310\n",
      "Epoch 6/15\n",
      "35/35 [==============================] - 3s 92ms/step - loss: 0.3857 - accuracy: 0.8909 - val_loss: 0.2701 - val_accuracy: 0.9397\n",
      "Epoch 7/15\n",
      "35/35 [==============================] - 3s 100ms/step - loss: 0.3853 - accuracy: 0.8880 - val_loss: 0.2976 - val_accuracy: 0.9224\n",
      "Epoch 8/15\n",
      "35/35 [==============================] - 4s 123ms/step - loss: 0.3833 - accuracy: 0.8880 - val_loss: 0.2900 - val_accuracy: 0.9224\n",
      "Epoch 9/15\n",
      "35/35 [==============================] - 3s 100ms/step - loss: 0.3842 - accuracy: 0.8851 - val_loss: 0.2675 - val_accuracy: 0.9310\n",
      "Epoch 10/15\n",
      "35/35 [==============================] - 4s 103ms/step - loss: 0.3827 - accuracy: 0.8900 - val_loss: 0.2720 - val_accuracy: 0.9310\n",
      "Epoch 11/15\n",
      "35/35 [==============================] - 3s 99ms/step - loss: 0.3752 - accuracy: 0.8929 - val_loss: 0.2670 - val_accuracy: 0.9310\n",
      "Epoch 12/15\n",
      "35/35 [==============================] - 4s 108ms/step - loss: 0.3775 - accuracy: 0.8909 - val_loss: 0.2712 - val_accuracy: 0.9310\n",
      "Epoch 13/15\n",
      "35/35 [==============================] - 4s 100ms/step - loss: 0.3756 - accuracy: 0.8890 - val_loss: 0.2635 - val_accuracy: 0.9310\n",
      "Epoch 14/15\n",
      "35/35 [==============================] - 3s 94ms/step - loss: 0.3791 - accuracy: 0.8900 - val_loss: 0.2641 - val_accuracy: 0.9310\n",
      "Epoch 15/15\n",
      "35/35 [==============================] - 4s 107ms/step - loss: 0.3737 - accuracy: 0.8919 - val_loss: 0.2722 - val_accuracy: 0.9310\n",
      "original_rescaled_data:\n",
      "Epoch 1/15\n",
      "35/35 [==============================] - 16s 166ms/step - loss: 0.7975 - accuracy: 0.7635 - val_loss: 0.5508 - val_accuracy: 0.8276\n",
      "Epoch 2/15\n",
      "35/35 [==============================] - 4s 100ms/step - loss: 0.6724 - accuracy: 0.7635 - val_loss: 0.5751 - val_accuracy: 0.8276\n",
      "Epoch 3/15\n",
      "35/35 [==============================] - 4s 110ms/step - loss: 0.6605 - accuracy: 0.7712 - val_loss: 0.5176 - val_accuracy: 0.8362\n",
      "Epoch 4/15\n",
      "35/35 [==============================] - 4s 127ms/step - loss: 0.6193 - accuracy: 0.8002 - val_loss: 0.4497 - val_accuracy: 0.8621\n",
      "Epoch 5/15\n",
      "35/35 [==============================] - 4s 123ms/step - loss: 0.5842 - accuracy: 0.8185 - val_loss: 0.4774 - val_accuracy: 0.9138\n",
      "Epoch 6/15\n",
      "35/35 [==============================] - 4s 112ms/step - loss: 0.5698 - accuracy: 0.8272 - val_loss: 0.3843 - val_accuracy: 0.9138\n",
      "Epoch 7/15\n",
      "35/35 [==============================] - 4s 100ms/step - loss: 0.5778 - accuracy: 0.8263 - val_loss: 0.4116 - val_accuracy: 0.8879\n",
      "Epoch 8/15\n",
      "35/35 [==============================] - 4s 101ms/step - loss: 0.5538 - accuracy: 0.8282 - val_loss: 0.3519 - val_accuracy: 0.9138\n",
      "Epoch 9/15\n",
      "35/35 [==============================] - 3s 99ms/step - loss: 0.5451 - accuracy: 0.8349 - val_loss: 0.3529 - val_accuracy: 0.9052\n",
      "Epoch 10/15\n",
      "35/35 [==============================] - 4s 110ms/step - loss: 0.5580 - accuracy: 0.8330 - val_loss: 0.3843 - val_accuracy: 0.9052\n",
      "Epoch 11/15\n",
      "35/35 [==============================] - 4s 122ms/step - loss: 0.5166 - accuracy: 0.8417 - val_loss: 0.3392 - val_accuracy: 0.9052\n",
      "Epoch 12/15\n",
      "35/35 [==============================] - 4s 102ms/step - loss: 0.5377 - accuracy: 0.8369 - val_loss: 0.3863 - val_accuracy: 0.9138\n",
      "Epoch 13/15\n",
      "35/35 [==============================] - 4s 100ms/step - loss: 0.5184 - accuracy: 0.8398 - val_loss: 0.4008 - val_accuracy: 0.9224\n",
      "Epoch 14/15\n",
      "35/35 [==============================] - 4s 106ms/step - loss: 0.4961 - accuracy: 0.8475 - val_loss: 0.3360 - val_accuracy: 0.9224\n",
      "Epoch 15/15\n",
      "35/35 [==============================] - 4s 105ms/step - loss: 0.5499 - accuracy: 0.8378 - val_loss: 0.3694 - val_accuracy: 0.9138\n"
     ]
    }
   ],
   "source": [
    "from tensorflow.keras.models import Sequential\n",
    "from tensorflow.keras.layers import GRU, Dense, Embedding, Reshape, LSTM\n",
    "from tensorflow.keras.utils import to_categorical\n",
    "\n",
    "for dataset in datasets:\n",
    "    print(f'{dataset.get(\"name\")}:')\n",
    "    X_train = dataset.get('X_train')\n",
    "    Y_train = to_categorical(dataset.get('Y_train'), num_classes=3)\n",
    "\n",
    "    # Создание модели\n",
    "    model = Sequential()\n",
    "    model.add(Reshape((49, 1), input_shape=(49,)))\n",
    "    model.add(GRU(32, return_sequences=True))\n",
    "    model.add(GRU(32, return_sequences=True, activation='relu'))\n",
    "    model.add(GRU(32, return_sequences=False))\n",
    "    model.add(Dense(3, activation='softmax'))\n",
    "\n",
    "    model.compile(optimizer='adam', loss='categorical_crossentropy',  metrics=['accuracy'])\n",
    "\n",
    "    history = model.fit(X_train, Y_train, epochs=15, batch_size=30, validation_split=0.1)\n",
    "\n"
   ],
   "metadata": {
    "collapsed": false
   }
  },
  {
   "cell_type": "code",
   "execution_count": 21,
   "outputs": [
    {
     "name": "stdout",
     "output_type": "stream",
     "text": [
      "9/9 [==============================] - 0s 34ms/step\n",
      "              precision    recall  f1-score   support\n",
      "\n",
      "           0       0.92      0.60      0.72       222\n",
      "           1       0.29      0.85      0.43        48\n",
      "           2       0.00      0.00      0.00        18\n",
      "\n",
      "    accuracy                           0.60       288\n",
      "   macro avg       0.40      0.48      0.38       288\n",
      "weighted avg       0.75      0.60      0.63       288\n",
      "\n"
     ]
    },
    {
     "name": "stderr",
     "output_type": "stream",
     "text": [
      "C:\\Users\\begin\\Desktop\\omegalols\\labs\\env\\lib\\site-packages\\sklearn\\metrics\\_classification.py:1344: UndefinedMetricWarning: Precision and F-score are ill-defined and being set to 0.0 in labels with no predicted samples. Use `zero_division` parameter to control this behavior.\n",
      "  _warn_prf(average, modifier, msg_start, len(result))\n",
      "C:\\Users\\begin\\Desktop\\omegalols\\labs\\env\\lib\\site-packages\\sklearn\\metrics\\_classification.py:1344: UndefinedMetricWarning: Precision and F-score are ill-defined and being set to 0.0 in labels with no predicted samples. Use `zero_division` parameter to control this behavior.\n",
      "  _warn_prf(average, modifier, msg_start, len(result))\n",
      "C:\\Users\\begin\\Desktop\\omegalols\\labs\\env\\lib\\site-packages\\sklearn\\metrics\\_classification.py:1344: UndefinedMetricWarning: Precision and F-score are ill-defined and being set to 0.0 in labels with no predicted samples. Use `zero_division` parameter to control this behavior.\n",
      "  _warn_prf(average, modifier, msg_start, len(result))\n"
     ]
    }
   ],
   "source": [
    "from sklearn.metrics import classification_report\n",
    "\n",
    "\n",
    "# получаем прогнозы модели на тестовых данных\n",
    "Y_pred = np.argmax(model.predict(data_X_test), axis=-1)\n",
    "\n",
    "# преобразуем метки классов и предсказания в одномерные массивы\n",
    "Y_test_flat = np.squeeze(np.asarray(data_Y_test))\n",
    "Y_pred_flat = Y_pred.flatten()\n",
    "\n",
    "# выводим отчет о классификации\n",
    "print(classification_report(Y_test_flat, Y_pred_flat))"
   ],
   "metadata": {
    "collapsed": false
   }
  },
  {
   "cell_type": "markdown",
   "source": [
    "### Реализация градиентного бустинга"
   ],
   "metadata": {
    "collapsed": false
   }
  },
  {
   "cell_type": "code",
   "execution_count": 22,
   "outputs": [],
   "source": [
    "params_gbr = {\n",
    "    'learning_rate': [0.01, 0.1, 1],\n",
    "    'n_estimators': [50, 100, 200],\n",
    "    'max_depth': [1, 2, 3, 4, 5]\n",
    "}"
   ],
   "metadata": {
    "collapsed": false
   }
  },
  {
   "cell_type": "code",
   "execution_count": 24,
   "outputs": [
    {
     "name": "stdout",
     "output_type": "stream",
     "text": [
      "Лучшие гиперпараметры для исходного набора преобразованных данных: {'learning_rate': 0.1, 'max_depth': 5, 'n_estimators': 200} \n",
      "\n",
      "RMSE для обучающей выборки: 0.0417\n",
      "R2 для обучающей выборки: 0.9956 \n",
      "\n",
      "RMSE для тестовой: 0.3486\n",
      "R2 для тестовой: 0.6335\n"
     ]
    }
   ],
   "source": [
    "from sklearn.metrics import mean_squared_error, r2_score\n",
    "from sklearn.ensemble import GradientBoostingClassifier\n",
    "\n",
    "gradboost_model = GradientBoostingClassifier()\n",
    "grid_search = GridSearchCV(gradboost_model,\n",
    "                           params_gbr,\n",
    "                           n_jobs=-1,\n",
    "                           cv=2,)\n",
    "grid_search.fit(data_X_train,\n",
    "                data_Y_train)\n",
    "best_gbr = grid_search.best_params_\n",
    "print(f'Лучшие гиперпараметры для исходного набора преобразованных данных:', best_gbr, '\\n')\n",
    "\n",
    "\n",
    "gbr_model = GradientBoostingClassifier(**best_gbr)\n",
    "gbr_model.fit(data_X_train, data_Y_train)\n",
    "prediction_train = gbr_model.predict(data_X_train)\n",
    "rmse_train = np.sqrt(mean_squared_error(data_Y_train, prediction_train))\n",
    "r2_train = r2_score(data_Y_train, prediction_train)\n",
    "print(f'RMSE для обучающей выборки:', '%.4f' %rmse_train)\n",
    "print(f'R2 для обучающей выборки:', '%.4f' %r2_train, '\\n')\n",
    "\n",
    "prediction_test = gbr_model.predict(data_X_test)\n",
    "rmse_test = np.sqrt(mean_squared_error(data_Y_test, prediction_test))\n",
    "r2_test = r2_score(data_Y_test, prediction_test)\n",
    "print(f'RMSE для тестовой:', '%.4f' %rmse_test)\n",
    "print(f'R2 для тестовой:', '%.4f' %r2_test)"
   ],
   "metadata": {
    "collapsed": false
   }
  },
  {
   "cell_type": "code",
   "execution_count": null,
   "outputs": [],
   "source": [],
   "metadata": {
    "collapsed": false
   }
  }
 ],
 "metadata": {
  "kernelspec": {
   "display_name": "Python 3",
   "language": "python",
   "name": "python3"
  },
  "language_info": {
   "codemirror_mode": {
    "name": "ipython",
    "version": 2
   },
   "file_extension": ".py",
   "mimetype": "text/x-python",
   "name": "python",
   "nbconvert_exporter": "python",
   "pygments_lexer": "ipython2",
   "version": "2.7.6"
  }
 },
 "nbformat": 4,
 "nbformat_minor": 0
}
